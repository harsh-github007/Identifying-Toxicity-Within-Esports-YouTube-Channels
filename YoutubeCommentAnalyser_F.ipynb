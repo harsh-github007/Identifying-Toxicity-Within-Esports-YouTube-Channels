{
  "nbformat": 4,
  "nbformat_minor": 0,
  "metadata": {
    "colab": {
      "provenance": [],
      "authorship_tag": "ABX9TyPGF3Y8or/Vx71AekEUEaXq"
    },
    "kernelspec": {
      "display_name": "Python 3",
      "name": "python3"
    },
    "language_info": {
      "name": "python"
    }
  },
  "cells": [
    {
      "cell_type": "code",
      "metadata": {
        "colab": {
          "base_uri": "https://localhost:8080/"
        },
        "id": "E2ArHH-PZkD_",
        "outputId": "ee0ee670-a964-432e-aa90-66ac136963ed"
      },
      "source": [
        "#mount google drive\n",
        "from google.colab import drive\n",
        "drive.mount('/content/drive')\n",
        "!ls \"/content/drive/My Drive/CSV\""
      ],
      "execution_count": null,
      "outputs": [
        {
          "output_type": "stream",
          "name": "stdout",
          "text": [
            "Mounted at /content/drive\n",
            "'01. Total Gameing.csv'    '03. A_S Gaming.csv'     05.-Desi-Gamers.csv\n",
            "'01.Total Gameing_M.csv'   '03. A_S Gaming_M.csv'   05.-Desi-Gamers_M.csv\n",
            "'02. Techno Gamerz.csv'    '04. Levinho.csv'\t    06.-Gyan-Gaming.csv\n",
            "'02. Techno Gamerz_M.csv'  '04. Levinho_M.csv'\t    06.-Gyan-Gaming_M.csv\n"
          ]
        }
      ]
    },
    {
      "cell_type": "code",
      "metadata": {
        "id": "o-GxlysgZ9sQ",
        "colab": {
          "base_uri": "https://localhost:8080/"
        },
        "outputId": "c1e26c7e-ad08-4566-9f4b-de2484c52dbd"
      },
      "source": [
        "pip install -U scikit-learn"
      ],
      "execution_count": null,
      "outputs": [
        {
          "output_type": "stream",
          "text": [
            "Collecting scikit-learn\n",
            "\u001b[?25l  Downloading https://files.pythonhosted.org/packages/a8/eb/a48f25c967526b66d5f1fa7a984594f0bf0a5afafa94a8c4dbc317744620/scikit_learn-0.24.2-cp37-cp37m-manylinux2010_x86_64.whl (22.3MB)\n",
            "\u001b[K     |████████████████████████████████| 22.3MB 2.0MB/s \n",
            "\u001b[?25hRequirement already satisfied, skipping upgrade: joblib>=0.11 in /usr/local/lib/python3.7/dist-packages (from scikit-learn) (1.0.1)\n",
            "Requirement already satisfied, skipping upgrade: scipy>=0.19.1 in /usr/local/lib/python3.7/dist-packages (from scikit-learn) (1.4.1)\n",
            "Collecting threadpoolctl>=2.0.0\n",
            "  Downloading https://files.pythonhosted.org/packages/f7/12/ec3f2e203afa394a149911729357aa48affc59c20e2c1c8297a60f33f133/threadpoolctl-2.1.0-py3-none-any.whl\n",
            "Requirement already satisfied, skipping upgrade: numpy>=1.13.3 in /usr/local/lib/python3.7/dist-packages (from scikit-learn) (1.19.5)\n",
            "Installing collected packages: threadpoolctl, scikit-learn\n",
            "  Found existing installation: scikit-learn 0.22.2.post1\n",
            "    Uninstalling scikit-learn-0.22.2.post1:\n",
            "      Successfully uninstalled scikit-learn-0.22.2.post1\n",
            "Successfully installed scikit-learn-0.24.2 threadpoolctl-2.1.0\n"
          ],
          "name": "stdout"
        }
      ]
    },
    {
      "cell_type": "code",
      "metadata": {
        "id": "-wjehchwaMzS"
      },
      "source": [
        "import numpy as np # linear algebra\n",
        "import pandas as pd # data processing, CSV file I/O (e.g. pd.read_csv)\n",
        "import os\n",
        "import scipy\n",
        "import warnings\n",
        "warnings.filterwarnings(\"ignore\")\n"
      ],
      "execution_count": null,
      "outputs": []
    },
    {
      "cell_type": "code",
      "metadata": {
        "id": "eV3k2jMLaSn-"
      },
      "source": [
        "from textblob import TextBlob\n",
        "from sklearn import metrics\n",
        "from mlxtend.plotting import plot_confusion_matrix"
      ],
      "execution_count": null,
      "outputs": []
    },
    {
      "cell_type": "code",
      "metadata": {
        "colab": {
          "base_uri": "https://localhost:8080/"
        },
        "id": "dCCwQI6qaWVc",
        "outputId": "dca22681-6df2-4d3b-e736-30e96fb0f1a0"
      },
      "source": [
        "!ls \"/content/drive/My Drive/CSV\""
      ],
      "execution_count": null,
      "outputs": [
        {
          "output_type": "stream",
          "text": [
            "'01. Total Gameing.csv'   '03. A_S Gaming.csv'\t 06.-Gyan-Gaming.csv\n",
            "'01.Total Gameing_M.csv'  '04. Levinho.csv'\n",
            "'02. Techno Gamerz.csv'    05.-Desi-Gamers.csv\n"
          ],
          "name": "stdout"
        }
      ]
    },
    {
      "cell_type": "code",
      "metadata": {
        "id": "nZeGGMF1aft6"
      },
      "source": [
        "file_TotalGameing = \"/content/drive/My Drive/CSV/01.Total Gameing_M.csv\"\n",
        "data = pd.read_csv(file_TotalGameing)"
      ],
      "execution_count": null,
      "outputs": []
    },
    {
      "cell_type": "code",
      "metadata": {
        "colab": {
          "base_uri": "https://localhost:8080/",
          "height": 204
        },
        "id": "-KD-BEJAaxO5",
        "outputId": "bb830fd2-377a-4b6f-bca5-de238739108e"
      },
      "source": [
        "data.head()"
      ],
      "execution_count": null,
      "outputs": [
        {
          "output_type": "execute_result",
          "data": {
            "text/html": [
              "<div>\n",
              "<style scoped>\n",
              "    .dataframe tbody tr th:only-of-type {\n",
              "        vertical-align: middle;\n",
              "    }\n",
              "\n",
              "    .dataframe tbody tr th {\n",
              "        vertical-align: top;\n",
              "    }\n",
              "\n",
              "    .dataframe thead th {\n",
              "        text-align: right;\n",
              "    }\n",
              "</style>\n",
              "<table border=\"1\" class=\"dataframe\">\n",
              "  <thead>\n",
              "    <tr style=\"text-align: right;\">\n",
              "      <th></th>\n",
              "      <th>author_name</th>\n",
              "      <th>comment</th>\n",
              "      <th>date</th>\n",
              "      <th>like_counts</th>\n",
              "      <th>reply_count</th>\n",
              "      <th>vidid</th>\n",
              "    </tr>\n",
              "  </thead>\n",
              "  <tbody>\n",
              "    <tr>\n",
              "      <th>0</th>\n",
              "      <td>Y23 P05</td>\n",
              "      <td>Ajjubhai challenge for you custom card</td>\n",
              "      <td>2021-04-04T18:07:09Z</td>\n",
              "      <td>0</td>\n",
              "      <td>0</td>\n",
              "      <td>NFlpZL7_rNo</td>\n",
              "    </tr>\n",
              "    <tr>\n",
              "      <th>1</th>\n",
              "      <td>NaN</td>\n",
              "      <td>Please 😭😭😭😭🙏🙏🙏</td>\n",
              "      <td>2021-04-04T18:02:27Z</td>\n",
              "      <td>0</td>\n",
              "      <td>0</td>\n",
              "      <td>NFlpZL7_rNo</td>\n",
              "    </tr>\n",
              "    <tr>\n",
              "      <th>2</th>\n",
              "      <td>Madhu Soni</td>\n",
              "      <td>Please 😭😭😭😭😭😭😭😭😭😭</td>\n",
              "      <td>2021-04-04T17:53:58Z</td>\n",
              "      <td>0</td>\n",
              "      <td>0</td>\n",
              "      <td>NFlpZL7_rNo</td>\n",
              "    </tr>\n",
              "    <tr>\n",
              "      <th>3</th>\n",
              "      <td>HAKER ANDROID GAMERZ</td>\n",
              "      <td>Op</td>\n",
              "      <td>2021-04-04T17:51:04Z</td>\n",
              "      <td>1</td>\n",
              "      <td>0</td>\n",
              "      <td>NFlpZL7_rNo</td>\n",
              "    </tr>\n",
              "    <tr>\n",
              "      <th>4</th>\n",
              "      <td>Nitin Mishra</td>\n",
              "      <td>Hii</td>\n",
              "      <td>2021-04-04T17:50:55Z</td>\n",
              "      <td>0</td>\n",
              "      <td>0</td>\n",
              "      <td>NFlpZL7_rNo</td>\n",
              "    </tr>\n",
              "  </tbody>\n",
              "</table>\n",
              "</div>"
            ],
            "text/plain": [
              "            author_name  ...        vidid\n",
              "0               Y23 P05  ...  NFlpZL7_rNo\n",
              "1                   NaN  ...  NFlpZL7_rNo\n",
              "2            Madhu Soni  ...  NFlpZL7_rNo\n",
              "3  HAKER ANDROID GAMERZ  ...  NFlpZL7_rNo\n",
              "4          Nitin Mishra  ...  NFlpZL7_rNo\n",
              "\n",
              "[5 rows x 6 columns]"
            ]
          },
          "metadata": {
            "tags": []
          },
          "execution_count": 10
        }
      ]
    },
    {
      "cell_type": "code",
      "metadata": {
        "colab": {
          "base_uri": "https://localhost:8080/"
        },
        "id": "czNJHDqxa0Kp",
        "outputId": "10f296ee-7abc-4643-88e8-d744d1355692"
      },
      "source": [
        "data.shape"
      ],
      "execution_count": null,
      "outputs": [
        {
          "output_type": "execute_result",
          "data": {
            "text/plain": [
              "(2074, 6)"
            ]
          },
          "metadata": {
            "tags": []
          },
          "execution_count": 11
        }
      ]
    },
    {
      "cell_type": "code",
      "metadata": {
        "id": "ySwdgrcDa5ke"
      },
      "source": [
        "data['polarity'] = data['comment'].apply(lambda x: TextBlob(x).sentiment.polarity)"
      ],
      "execution_count": null,
      "outputs": []
    },
    {
      "cell_type": "code",
      "metadata": {
        "colab": {
          "base_uri": "https://localhost:8080/",
          "height": 204
        },
        "id": "WvPSadjNbBT1",
        "outputId": "58990255-1bb1-457d-985c-a3be39187238"
      },
      "source": [
        "data.head()"
      ],
      "execution_count": null,
      "outputs": [
        {
          "output_type": "execute_result",
          "data": {
            "text/html": [
              "<div>\n",
              "<style scoped>\n",
              "    .dataframe tbody tr th:only-of-type {\n",
              "        vertical-align: middle;\n",
              "    }\n",
              "\n",
              "    .dataframe tbody tr th {\n",
              "        vertical-align: top;\n",
              "    }\n",
              "\n",
              "    .dataframe thead th {\n",
              "        text-align: right;\n",
              "    }\n",
              "</style>\n",
              "<table border=\"1\" class=\"dataframe\">\n",
              "  <thead>\n",
              "    <tr style=\"text-align: right;\">\n",
              "      <th></th>\n",
              "      <th>author_name</th>\n",
              "      <th>comment</th>\n",
              "      <th>date</th>\n",
              "      <th>like_counts</th>\n",
              "      <th>reply_count</th>\n",
              "      <th>vidid</th>\n",
              "      <th>polarity</th>\n",
              "    </tr>\n",
              "  </thead>\n",
              "  <tbody>\n",
              "    <tr>\n",
              "      <th>0</th>\n",
              "      <td>Y23 P05</td>\n",
              "      <td>Ajjubhai challenge for you custom card</td>\n",
              "      <td>2021-04-04T18:07:09Z</td>\n",
              "      <td>0</td>\n",
              "      <td>0</td>\n",
              "      <td>NFlpZL7_rNo</td>\n",
              "      <td>0.0</td>\n",
              "    </tr>\n",
              "    <tr>\n",
              "      <th>1</th>\n",
              "      <td>NaN</td>\n",
              "      <td>Please 😭😭😭😭🙏🙏🙏</td>\n",
              "      <td>2021-04-04T18:02:27Z</td>\n",
              "      <td>0</td>\n",
              "      <td>0</td>\n",
              "      <td>NFlpZL7_rNo</td>\n",
              "      <td>0.0</td>\n",
              "    </tr>\n",
              "    <tr>\n",
              "      <th>2</th>\n",
              "      <td>Madhu Soni</td>\n",
              "      <td>Please 😭😭😭😭😭😭😭😭😭😭</td>\n",
              "      <td>2021-04-04T17:53:58Z</td>\n",
              "      <td>0</td>\n",
              "      <td>0</td>\n",
              "      <td>NFlpZL7_rNo</td>\n",
              "      <td>0.0</td>\n",
              "    </tr>\n",
              "    <tr>\n",
              "      <th>3</th>\n",
              "      <td>HAKER ANDROID GAMERZ</td>\n",
              "      <td>Op</td>\n",
              "      <td>2021-04-04T17:51:04Z</td>\n",
              "      <td>1</td>\n",
              "      <td>0</td>\n",
              "      <td>NFlpZL7_rNo</td>\n",
              "      <td>0.0</td>\n",
              "    </tr>\n",
              "    <tr>\n",
              "      <th>4</th>\n",
              "      <td>Nitin Mishra</td>\n",
              "      <td>Hii</td>\n",
              "      <td>2021-04-04T17:50:55Z</td>\n",
              "      <td>0</td>\n",
              "      <td>0</td>\n",
              "      <td>NFlpZL7_rNo</td>\n",
              "      <td>0.0</td>\n",
              "    </tr>\n",
              "  </tbody>\n",
              "</table>\n",
              "</div>"
            ],
            "text/plain": [
              "            author_name  ... polarity\n",
              "0               Y23 P05  ...      0.0\n",
              "1                   NaN  ...      0.0\n",
              "2            Madhu Soni  ...      0.0\n",
              "3  HAKER ANDROID GAMERZ  ...      0.0\n",
              "4          Nitin Mishra  ...      0.0\n",
              "\n",
              "[5 rows x 7 columns]"
            ]
          },
          "metadata": {
            "tags": []
          },
          "execution_count": 13
        }
      ]
    },
    {
      "cell_type": "markdown",
      "metadata": {
        "id": "-89Nh5bBbK57"
      },
      "source": [
        "**Shuffle the dataset**"
      ]
    },
    {
      "cell_type": "code",
      "metadata": {
        "id": "1F8rRVXNbHRm"
      },
      "source": [
        "data = data.sample(frac=1).reset_index(drop=True)"
      ],
      "execution_count": null,
      "outputs": []
    },
    {
      "cell_type": "code",
      "metadata": {
        "id": "MbIiRODCbTjN"
      },
      "source": [
        "data['pol_cat']  = 0"
      ],
      "execution_count": null,
      "outputs": []
    },
    {
      "cell_type": "code",
      "metadata": {
        "id": "S22atHU0bYHn"
      },
      "source": [
        "data['pol_cat'][data.polarity > 0] = 1\n",
        "data['pol_cat'][data.polarity <= 0] = -1"
      ],
      "execution_count": null,
      "outputs": []
    },
    {
      "cell_type": "code",
      "metadata": {
        "colab": {
          "base_uri": "https://localhost:8080/",
          "height": 204
        },
        "id": "inYesj1gbfGF",
        "outputId": "6206d052-c29f-42fd-d1ba-e1ca1017cf41"
      },
      "source": [
        "data.head()"
      ],
      "execution_count": null,
      "outputs": [
        {
          "output_type": "execute_result",
          "data": {
            "text/html": [
              "<div>\n",
              "<style scoped>\n",
              "    .dataframe tbody tr th:only-of-type {\n",
              "        vertical-align: middle;\n",
              "    }\n",
              "\n",
              "    .dataframe tbody tr th {\n",
              "        vertical-align: top;\n",
              "    }\n",
              "\n",
              "    .dataframe thead th {\n",
              "        text-align: right;\n",
              "    }\n",
              "</style>\n",
              "<table border=\"1\" class=\"dataframe\">\n",
              "  <thead>\n",
              "    <tr style=\"text-align: right;\">\n",
              "      <th></th>\n",
              "      <th>author_name</th>\n",
              "      <th>comment</th>\n",
              "      <th>date</th>\n",
              "      <th>like_counts</th>\n",
              "      <th>reply_count</th>\n",
              "      <th>vidid</th>\n",
              "      <th>polarity</th>\n",
              "      <th>pol_cat</th>\n",
              "    </tr>\n",
              "  </thead>\n",
              "  <tbody>\n",
              "    <tr>\n",
              "      <th>0</th>\n",
              "      <td>HITANSHU FF</td>\n",
              "      <td>Mota bhai raid me maja aagaya</td>\n",
              "      <td>2021-04-04T08:04:42Z</td>\n",
              "      <td>2</td>\n",
              "      <td>1</td>\n",
              "      <td>NFlpZL7_rNo</td>\n",
              "      <td>0.0</td>\n",
              "      <td>-1</td>\n",
              "    </tr>\n",
              "    <tr>\n",
              "      <th>1</th>\n",
              "      <td>manjinder singh</td>\n",
              "      <td>hi</td>\n",
              "      <td>2021-04-04T08:05:04Z</td>\n",
              "      <td>0</td>\n",
              "      <td>0</td>\n",
              "      <td>NFlpZL7_rNo</td>\n",
              "      <td>0.0</td>\n",
              "      <td>-1</td>\n",
              "    </tr>\n",
              "    <tr>\n",
              "      <th>2</th>\n",
              "      <td>Vishesh Kumar</td>\n",
              "      <td>Bhai face reveal karo bhai</td>\n",
              "      <td>2021-04-04T11:22:50Z</td>\n",
              "      <td>0</td>\n",
              "      <td>0</td>\n",
              "      <td>NFlpZL7_rNo</td>\n",
              "      <td>0.0</td>\n",
              "      <td>-1</td>\n",
              "    </tr>\n",
              "    <tr>\n",
              "      <th>3</th>\n",
              "      <td>Jag Mohan</td>\n",
              "      <td>Ajju bhai opp</td>\n",
              "      <td>2021-04-04T08:05:41Z</td>\n",
              "      <td>0</td>\n",
              "      <td>0</td>\n",
              "      <td>NFlpZL7_rNo</td>\n",
              "      <td>0.0</td>\n",
              "      <td>-1</td>\n",
              "    </tr>\n",
              "    <tr>\n",
              "      <th>4</th>\n",
              "      <td>Many Times Gamer</td>\n",
              "      <td>Thanks for massage me on instagram</td>\n",
              "      <td>2021-04-04T08:05:03Z</td>\n",
              "      <td>1</td>\n",
              "      <td>0</td>\n",
              "      <td>NFlpZL7_rNo</td>\n",
              "      <td>0.2</td>\n",
              "      <td>1</td>\n",
              "    </tr>\n",
              "  </tbody>\n",
              "</table>\n",
              "</div>"
            ],
            "text/plain": [
              "        author_name                             comment  ... polarity  pol_cat\n",
              "0       HITANSHU FF       Mota bhai raid me maja aagaya  ...      0.0       -1\n",
              "1   manjinder singh                                  hi  ...      0.0       -1\n",
              "2     Vishesh Kumar          Bhai face reveal karo bhai  ...      0.0       -1\n",
              "3         Jag Mohan                       Ajju bhai opp  ...      0.0       -1\n",
              "4  Many Times Gamer  Thanks for massage me on instagram  ...      0.2        1\n",
              "\n",
              "[5 rows x 8 columns]"
            ]
          },
          "metadata": {
            "tags": []
          },
          "execution_count": 17
        }
      ]
    },
    {
      "cell_type": "code",
      "metadata": {
        "colab": {
          "base_uri": "https://localhost:8080/"
        },
        "id": "_cK5IXLgbhn7",
        "outputId": "57694add-3f55-4a0e-92d1-8d7793e3c9cf"
      },
      "source": [
        "data['pol_cat'].value_counts()"
      ],
      "execution_count": null,
      "outputs": [
        {
          "output_type": "execute_result",
          "data": {
            "text/plain": [
              "-1    1714\n",
              " 1     360\n",
              "Name: pol_cat, dtype: int64"
            ]
          },
          "metadata": {
            "tags": []
          },
          "execution_count": 18
        }
      ]
    },
    {
      "cell_type": "code",
      "metadata": {
        "id": "I3GSz9hZbnYo"
      },
      "source": [
        "data_pos = data[data['pol_cat'] == 1]\n",
        "data_pos = data_pos.reset_index(drop = True)\n",
        "\n",
        "data_neg = data[data['pol_cat'] == -1]\n",
        "data_neg = data_neg.reset_index(drop = True)\n",
        "\n",
        "#data_neutral = data[data['pol_cat'] == 0]\n",
        "#data_neutral = data_neutral.reset_index(drop = True)\n"
      ],
      "execution_count": null,
      "outputs": []
    },
    {
      "cell_type": "code",
      "metadata": {
        "colab": {
          "base_uri": "https://localhost:8080/",
          "height": 204
        },
        "id": "-DlnHqwrbxdG",
        "outputId": "ae0cab32-4188-4de6-9ae4-15914fab2d9b"
      },
      "source": [
        "data_pos.head()"
      ],
      "execution_count": null,
      "outputs": [
        {
          "output_type": "execute_result",
          "data": {
            "text/html": [
              "<div>\n",
              "<style scoped>\n",
              "    .dataframe tbody tr th:only-of-type {\n",
              "        vertical-align: middle;\n",
              "    }\n",
              "\n",
              "    .dataframe tbody tr th {\n",
              "        vertical-align: top;\n",
              "    }\n",
              "\n",
              "    .dataframe thead th {\n",
              "        text-align: right;\n",
              "    }\n",
              "</style>\n",
              "<table border=\"1\" class=\"dataframe\">\n",
              "  <thead>\n",
              "    <tr style=\"text-align: right;\">\n",
              "      <th></th>\n",
              "      <th>author_name</th>\n",
              "      <th>comment</th>\n",
              "      <th>date</th>\n",
              "      <th>like_counts</th>\n",
              "      <th>reply_count</th>\n",
              "      <th>vidid</th>\n",
              "      <th>polarity</th>\n",
              "      <th>pol_cat</th>\n",
              "      <th>stop_comments</th>\n",
              "    </tr>\n",
              "  </thead>\n",
              "  <tbody>\n",
              "    <tr>\n",
              "      <th>0</th>\n",
              "      <td>Many Times Gamer</td>\n",
              "      <td>thanks for massage me on instagram</td>\n",
              "      <td>2021-04-04T08:05:03Z</td>\n",
              "      <td>1</td>\n",
              "      <td>0</td>\n",
              "      <td>NFlpZL7_rNo</td>\n",
              "      <td>0.2</td>\n",
              "      <td>1</td>\n",
              "      <td>thanks massage instagram</td>\n",
              "    </tr>\n",
              "    <tr>\n",
              "      <th>1</th>\n",
              "      <td>S k p Pandey</td>\n",
              "      <td>i love ajjubhai94</td>\n",
              "      <td>2021-04-04T08:13:20Z</td>\n",
              "      <td>0</td>\n",
              "      <td>0</td>\n",
              "      <td>NFlpZL7_rNo</td>\n",
              "      <td>0.5</td>\n",
              "      <td>1</td>\n",
              "      <td>love ajjubhai94</td>\n",
              "    </tr>\n",
              "    <tr>\n",
              "      <th>2</th>\n",
              "      <td>THE Tsar</td>\n",
              "      <td>yes rcb win</td>\n",
              "      <td>2021-04-04T08:21:49Z</td>\n",
              "      <td>0</td>\n",
              "      <td>0</td>\n",
              "      <td>NFlpZL7_rNo</td>\n",
              "      <td>0.8</td>\n",
              "      <td>1</td>\n",
              "      <td>yes rcb win</td>\n",
              "    </tr>\n",
              "    <tr>\n",
              "      <th>3</th>\n",
              "      <td>Sanjay Kadam</td>\n",
              "      <td>rcd win</td>\n",
              "      <td>2021-04-04T09:43:46Z</td>\n",
              "      <td>0</td>\n",
              "      <td>0</td>\n",
              "      <td>NFlpZL7_rNo</td>\n",
              "      <td>0.8</td>\n",
              "      <td>1</td>\n",
              "      <td>rcd win</td>\n",
              "    </tr>\n",
              "    <tr>\n",
              "      <th>4</th>\n",
              "      <td>sangeeta mahale</td>\n",
              "      <td>good morning ajuubhai</td>\n",
              "      <td>2021-04-04T14:34:01Z</td>\n",
              "      <td>1</td>\n",
              "      <td>0</td>\n",
              "      <td>NFlpZL7_rNo</td>\n",
              "      <td>0.7</td>\n",
              "      <td>1</td>\n",
              "      <td>good morning ajuubhai</td>\n",
              "    </tr>\n",
              "  </tbody>\n",
              "</table>\n",
              "</div>"
            ],
            "text/plain": [
              "        author_name  ...             stop_comments\n",
              "0  Many Times Gamer  ...  thanks massage instagram\n",
              "1      S k p Pandey  ...           love ajjubhai94\n",
              "2          THE Tsar  ...               yes rcb win\n",
              "3      Sanjay Kadam  ...                   rcd win\n",
              "4   sangeeta mahale  ...     good morning ajuubhai\n",
              "\n",
              "[5 rows x 9 columns]"
            ]
          },
          "metadata": {
            "tags": []
          },
          "execution_count": 90
        }
      ]
    },
    {
      "cell_type": "code",
      "metadata": {
        "colab": {
          "base_uri": "https://localhost:8080/",
          "height": 204
        },
        "id": "N5jYqF-jb30P",
        "outputId": "8fec5265-7328-4d24-bb47-ca855828798e"
      },
      "source": [
        "data_neg.head()"
      ],
      "execution_count": null,
      "outputs": [
        {
          "output_type": "execute_result",
          "data": {
            "text/html": [
              "<div>\n",
              "<style scoped>\n",
              "    .dataframe tbody tr th:only-of-type {\n",
              "        vertical-align: middle;\n",
              "    }\n",
              "\n",
              "    .dataframe tbody tr th {\n",
              "        vertical-align: top;\n",
              "    }\n",
              "\n",
              "    .dataframe thead th {\n",
              "        text-align: right;\n",
              "    }\n",
              "</style>\n",
              "<table border=\"1\" class=\"dataframe\">\n",
              "  <thead>\n",
              "    <tr style=\"text-align: right;\">\n",
              "      <th></th>\n",
              "      <th>author_name</th>\n",
              "      <th>comment</th>\n",
              "      <th>date</th>\n",
              "      <th>like_counts</th>\n",
              "      <th>reply_count</th>\n",
              "      <th>vidid</th>\n",
              "      <th>polarity</th>\n",
              "      <th>pol_cat</th>\n",
              "      <th>stop_comments</th>\n",
              "    </tr>\n",
              "  </thead>\n",
              "  <tbody>\n",
              "    <tr>\n",
              "      <th>0</th>\n",
              "      <td>HITANSHU FF</td>\n",
              "      <td>mota bhai raid me maja aagaya</td>\n",
              "      <td>2021-04-04T08:04:42Z</td>\n",
              "      <td>2</td>\n",
              "      <td>1</td>\n",
              "      <td>NFlpZL7_rNo</td>\n",
              "      <td>0.0</td>\n",
              "      <td>-1</td>\n",
              "      <td>mota bhai raid maja aagaya</td>\n",
              "    </tr>\n",
              "    <tr>\n",
              "      <th>1</th>\n",
              "      <td>manjinder singh</td>\n",
              "      <td>hi</td>\n",
              "      <td>2021-04-04T08:05:04Z</td>\n",
              "      <td>0</td>\n",
              "      <td>0</td>\n",
              "      <td>NFlpZL7_rNo</td>\n",
              "      <td>0.0</td>\n",
              "      <td>-1</td>\n",
              "      <td>hi</td>\n",
              "    </tr>\n",
              "    <tr>\n",
              "      <th>2</th>\n",
              "      <td>Vishesh Kumar</td>\n",
              "      <td>bhai face reveal karo bhai</td>\n",
              "      <td>2021-04-04T11:22:50Z</td>\n",
              "      <td>0</td>\n",
              "      <td>0</td>\n",
              "      <td>NFlpZL7_rNo</td>\n",
              "      <td>0.0</td>\n",
              "      <td>-1</td>\n",
              "      <td>bhai face reveal karo bhai</td>\n",
              "    </tr>\n",
              "    <tr>\n",
              "      <th>3</th>\n",
              "      <td>Jag Mohan</td>\n",
              "      <td>ajju bhai opp</td>\n",
              "      <td>2021-04-04T08:05:41Z</td>\n",
              "      <td>0</td>\n",
              "      <td>0</td>\n",
              "      <td>NFlpZL7_rNo</td>\n",
              "      <td>0.0</td>\n",
              "      <td>-1</td>\n",
              "      <td>ajju bhai opp</td>\n",
              "    </tr>\n",
              "    <tr>\n",
              "      <th>4</th>\n",
              "      <td>darbar suresh</td>\n",
              "      <td>mai ne apko follo bhi kiya hai</td>\n",
              "      <td>2021-04-04T17:00:01Z</td>\n",
              "      <td>1</td>\n",
              "      <td>0</td>\n",
              "      <td>NFlpZL7_rNo</td>\n",
              "      <td>0.0</td>\n",
              "      <td>-1</td>\n",
              "      <td>mai ne apko follo bhi kiya hai</td>\n",
              "    </tr>\n",
              "  </tbody>\n",
              "</table>\n",
              "</div>"
            ],
            "text/plain": [
              "       author_name  ...                   stop_comments\n",
              "0      HITANSHU FF  ...      mota bhai raid maja aagaya\n",
              "1  manjinder singh  ...                              hi\n",
              "2    Vishesh Kumar  ...      bhai face reveal karo bhai\n",
              "3        Jag Mohan  ...                   ajju bhai opp\n",
              "4    darbar suresh  ...  mai ne apko follo bhi kiya hai\n",
              "\n",
              "[5 rows x 9 columns]"
            ]
          },
          "metadata": {
            "tags": []
          },
          "execution_count": 91
        }
      ]
    },
    {
      "cell_type": "code",
      "metadata": {
        "colab": {
          "base_uri": "https://localhost:8080/",
          "height": 35
        },
        "id": "Eo-D274Ub8G8",
        "outputId": "addd2335-4b78-4d0d-a452-a1468e1c66d4"
      },
      "source": [
        "data_neg['comment'][40]"
      ],
      "execution_count": null,
      "outputs": [
        {
          "output_type": "execute_result",
          "data": {
            "application/vnd.google.colaboratory.intrinsic+json": {
              "type": "string"
            },
            "text/plain": [
              "'mota bhai read'"
            ]
          },
          "metadata": {
            "tags": []
          },
          "execution_count": 92
        }
      ]
    },
    {
      "cell_type": "code",
      "metadata": {
        "colab": {
          "base_uri": "https://localhost:8080/",
          "height": 316
        },
        "id": "w3J9ZxgxcBA-",
        "outputId": "455a8617-240d-426c-cade-99a64cb197bb"
      },
      "source": [
        "data.pol_cat.value_counts().plot.bar()\n",
        "data.pol_cat.value_counts()"
      ],
      "execution_count": null,
      "outputs": [
        {
          "output_type": "execute_result",
          "data": {
            "text/plain": [
              "-1    1714\n",
              " 1     360\n",
              "Name: pol_cat, dtype: int64"
            ]
          },
          "metadata": {
            "tags": []
          },
          "execution_count": 93
        },
        {
          "output_type": "display_data",
          "data": {
            "image/png": "[encoded data removed]",
            "text/plain": [
              "<Figure size 432x288 with 1 Axes>"
            ]
          },
          "metadata": {
            "tags": [],
            "needs_background": "light"
          }
        }
      ]
    },
    {
      "cell_type": "markdown",
      "metadata": {
        "id": "akzI1NiRcJNv"
      },
      "source": [
        "**Data Preprocessing**"
      ]
    },
    {
      "cell_type": "code",
      "metadata": {
        "id": "FdQfwqhUcFJz"
      },
      "source": [
        "data['comment'] = data['comment'].str.lower()"
      ],
      "execution_count": null,
      "outputs": []
    },
    {
      "cell_type": "code",
      "metadata": {
        "colab": {
          "base_uri": "https://localhost:8080/"
        },
        "id": "EsTVYGnpcU8E",
        "outputId": "06451975-534e-46b1-91dd-bbed56c3843e"
      },
      "source": [
        "data['comment'].head()"
      ],
      "execution_count": null,
      "outputs": [
        {
          "output_type": "execute_result",
          "data": {
            "text/plain": [
              "0         mota bhai raid me maja aagaya\n",
              "1                                    hi\n",
              "2            bhai face reveal karo bhai\n",
              "3                         ajju bhai opp\n",
              "4    thanks for massage me on instagram\n",
              "Name: comment, dtype: object"
            ]
          },
          "metadata": {
            "tags": []
          },
          "execution_count": 27
        }
      ]
    },
    {
      "cell_type": "code",
      "metadata": {
        "colab": {
          "base_uri": "https://localhost:8080/",
          "height": 297
        },
        "id": "MOsnQSwbcZ9U",
        "outputId": "4dc2b110-ed70-4ee9-ab46-0722f826e5ed"
      },
      "source": [
        "data.describe()"
      ],
      "execution_count": null,
      "outputs": [
        {
          "output_type": "execute_result",
          "data": {
            "text/html": [
              "<div>\n",
              "<style scoped>\n",
              "    .dataframe tbody tr th:only-of-type {\n",
              "        vertical-align: middle;\n",
              "    }\n",
              "\n",
              "    .dataframe tbody tr th {\n",
              "        vertical-align: top;\n",
              "    }\n",
              "\n",
              "    .dataframe thead th {\n",
              "        text-align: right;\n",
              "    }\n",
              "</style>\n",
              "<table border=\"1\" class=\"dataframe\">\n",
              "  <thead>\n",
              "    <tr style=\"text-align: right;\">\n",
              "      <th></th>\n",
              "      <th>like_counts</th>\n",
              "      <th>reply_count</th>\n",
              "      <th>polarity</th>\n",
              "      <th>pol_cat</th>\n",
              "    </tr>\n",
              "  </thead>\n",
              "  <tbody>\n",
              "    <tr>\n",
              "      <th>count</th>\n",
              "      <td>2074.000000</td>\n",
              "      <td>2074.000000</td>\n",
              "      <td>2074.000000</td>\n",
              "      <td>2074.000000</td>\n",
              "    </tr>\n",
              "    <tr>\n",
              "      <th>mean</th>\n",
              "      <td>0.795564</td>\n",
              "      <td>0.088717</td>\n",
              "      <td>0.071559</td>\n",
              "      <td>-0.652845</td>\n",
              "    </tr>\n",
              "    <tr>\n",
              "      <th>std</th>\n",
              "      <td>3.937850</td>\n",
              "      <td>0.626507</td>\n",
              "      <td>0.262280</td>\n",
              "      <td>0.757674</td>\n",
              "    </tr>\n",
              "    <tr>\n",
              "      <th>min</th>\n",
              "      <td>0.000000</td>\n",
              "      <td>0.000000</td>\n",
              "      <td>-1.000000</td>\n",
              "      <td>-1.000000</td>\n",
              "    </tr>\n",
              "    <tr>\n",
              "      <th>25%</th>\n",
              "      <td>0.000000</td>\n",
              "      <td>0.000000</td>\n",
              "      <td>0.000000</td>\n",
              "      <td>-1.000000</td>\n",
              "    </tr>\n",
              "    <tr>\n",
              "      <th>50%</th>\n",
              "      <td>0.000000</td>\n",
              "      <td>0.000000</td>\n",
              "      <td>0.000000</td>\n",
              "      <td>-1.000000</td>\n",
              "    </tr>\n",
              "    <tr>\n",
              "      <th>75%</th>\n",
              "      <td>1.000000</td>\n",
              "      <td>0.000000</td>\n",
              "      <td>0.000000</td>\n",
              "      <td>-1.000000</td>\n",
              "    </tr>\n",
              "    <tr>\n",
              "      <th>max</th>\n",
              "      <td>96.000000</td>\n",
              "      <td>16.000000</td>\n",
              "      <td>1.000000</td>\n",
              "      <td>1.000000</td>\n",
              "    </tr>\n",
              "  </tbody>\n",
              "</table>\n",
              "</div>"
            ],
            "text/plain": [
              "       like_counts  reply_count     polarity      pol_cat\n",
              "count  2074.000000  2074.000000  2074.000000  2074.000000\n",
              "mean      0.795564     0.088717     0.071559    -0.652845\n",
              "std       3.937850     0.626507     0.262280     0.757674\n",
              "min       0.000000     0.000000    -1.000000    -1.000000\n",
              "25%       0.000000     0.000000     0.000000    -1.000000\n",
              "50%       0.000000     0.000000     0.000000    -1.000000\n",
              "75%       1.000000     0.000000     0.000000    -1.000000\n",
              "max      96.000000    16.000000     1.000000     1.000000"
            ]
          },
          "metadata": {
            "tags": []
          },
          "execution_count": 28
        }
      ]
    },
    {
      "cell_type": "code",
      "metadata": {
        "colab": {
          "base_uri": "https://localhost:8080/"
        },
        "id": "Ppzb5cexcgqS",
        "outputId": "f9e72661-6382-4817-aac1-57c6eb81eef2"
      },
      "source": [
        "data.info()"
      ],
      "execution_count": null,
      "outputs": [
        {
          "output_type": "stream",
          "text": [
            "<class 'pandas.core.frame.DataFrame'>\n",
            "RangeIndex: 2074 entries, 0 to 2073\n",
            "Data columns (total 8 columns):\n",
            " #   Column       Non-Null Count  Dtype  \n",
            "---  ------       --------------  -----  \n",
            " 0   author_name  2073 non-null   object \n",
            " 1   comment      2074 non-null   object \n",
            " 2   date         2074 non-null   object \n",
            " 3   like_counts  2074 non-null   int64  \n",
            " 4   reply_count  2074 non-null   int64  \n",
            " 5   vidid        2074 non-null   object \n",
            " 6   polarity     2074 non-null   float64\n",
            " 7   pol_cat      2074 non-null   int64  \n",
            "dtypes: float64(1), int64(3), object(4)\n",
            "memory usage: 129.8+ KB\n"
          ],
          "name": "stdout"
        }
      ]
    },
    {
      "cell_type": "code",
      "metadata": {
        "colab": {
          "base_uri": "https://localhost:8080/",
          "height": 35
        },
        "id": "kDTGBVBzck2d",
        "outputId": "8dbdb875-38c4-44e0-aa2c-ab67f6e3079e"
      },
      "source": [
        "data['comment'][0]"
      ],
      "execution_count": null,
      "outputs": [
        {
          "output_type": "execute_result",
          "data": {
            "application/vnd.google.colaboratory.intrinsic+json": {
              "type": "string"
            },
            "text/plain": [
              "'mota bhai raid me maja aagaya'"
            ]
          },
          "metadata": {
            "tags": []
          },
          "execution_count": 30
        }
      ]
    },
    {
      "cell_type": "code",
      "metadata": {
        "colab": {
          "base_uri": "https://localhost:8080/",
          "height": 35
        },
        "id": "ewoP88-scpXM",
        "outputId": "b10bf6be-8b3a-4ca9-eb96-7d57a95c5d10"
      },
      "source": [
        "data['comment'][0].strip()"
      ],
      "execution_count": null,
      "outputs": [
        {
          "output_type": "execute_result",
          "data": {
            "application/vnd.google.colaboratory.intrinsic+json": {
              "type": "string"
            },
            "text/plain": [
              "'mota bhai raid me maja aagaya'"
            ]
          },
          "metadata": {
            "tags": []
          },
          "execution_count": 31
        }
      ]
    },
    {
      "cell_type": "code",
      "metadata": {
        "colab": {
          "base_uri": "https://localhost:8080/"
        },
        "id": "duSvxzGxcuTx",
        "outputId": "51b1c7e6-7aa4-4414-f06b-e48fdb830bad"
      },
      "source": [
        "import nltk\n",
        "nltk.download(\"stopwords\")"
      ],
      "execution_count": null,
      "outputs": [
        {
          "output_type": "stream",
          "text": [
            "[nltk_data] Downloading package stopwords to /root/nltk_data...\n",
            "[nltk_data]   Unzipping corpora/stopwords.zip.\n"
          ],
          "name": "stdout"
        },
        {
          "output_type": "execute_result",
          "data": {
            "text/plain": [
              "True"
            ]
          },
          "metadata": {
            "tags": []
          },
          "execution_count": 32
        }
      ]
    },
    {
      "cell_type": "code",
      "metadata": {
        "colab": {
          "base_uri": "https://localhost:8080/"
        },
        "id": "b2v0KjwIcyDa",
        "outputId": "10a75783-3e13-4c33-d62f-37d9b5724d81"
      },
      "source": [
        "nltk.download(\"punkt\")"
      ],
      "execution_count": null,
      "outputs": [
        {
          "output_type": "stream",
          "text": [
            "[nltk_data] Downloading package punkt to /root/nltk_data...\n",
            "[nltk_data]   Unzipping tokenizers/punkt.zip.\n"
          ],
          "name": "stdout"
        },
        {
          "output_type": "execute_result",
          "data": {
            "text/plain": [
              "True"
            ]
          },
          "metadata": {
            "tags": []
          },
          "execution_count": 33
        }
      ]
    },
    {
      "cell_type": "code",
      "metadata": {
        "id": "Axn4efnnc1Rx"
      },
      "source": [
        "from nltk.corpus import stopwords\n",
        "from nltk import word_tokenize\n",
        "import string\n",
        "import re\n",
        "import nltk"
      ],
      "execution_count": null,
      "outputs": []
    },
    {
      "cell_type": "code",
      "metadata": {
        "colab": {
          "base_uri": "https://localhost:8080/"
        },
        "id": "IQO13Siic5II",
        "outputId": "86d913d4-512e-4d47-9d95-c024d3995fe8"
      },
      "source": [
        "print(stopwords.words('english'))"
      ],
      "execution_count": null,
      "outputs": [
        {
          "output_type": "stream",
          "text": [
            "['i', 'me', 'my', 'myself', 'we', 'our', 'ours', 'ourselves', 'you', \"you're\", \"you've\", \"you'll\", \"you'd\", 'your', 'yours', 'yourself', 'yourselves', 'he', 'him', 'his', 'himself', 'she', \"she's\", 'her', 'hers', 'herself', 'it', \"it's\", 'its', 'itself', 'they', 'them', 'their', 'theirs', 'themselves', 'what', 'which', 'who', 'whom', 'this', 'that', \"that'll\", 'these', 'those', 'am', 'is', 'are', 'was', 'were', 'be', 'been', 'being', 'have', 'has', 'had', 'having', 'do', 'does', 'did', 'doing', 'a', 'an', 'the', 'and', 'but', 'if', 'or', 'because', 'as', 'until', 'while', 'of', 'at', 'by', 'for', 'with', 'about', 'against', 'between', 'into', 'through', 'during', 'before', 'after', 'above', 'below', 'to', 'from', 'up', 'down', 'in', 'out', 'on', 'off', 'over', 'under', 'again', 'further', 'then', 'once', 'here', 'there', 'when', 'where', 'why', 'how', 'all', 'any', 'both', 'each', 'few', 'more', 'most', 'other', 'some', 'such', 'no', 'nor', 'not', 'only', 'own', 'same', 'so', 'than', 'too', 'very', 's', 't', 'can', 'will', 'just', 'don', \"don't\", 'should', \"should've\", 'now', 'd', 'll', 'm', 'o', 're', 've', 'y', 'ain', 'aren', \"aren't\", 'couldn', \"couldn't\", 'didn', \"didn't\", 'doesn', \"doesn't\", 'hadn', \"hadn't\", 'hasn', \"hasn't\", 'haven', \"haven't\", 'isn', \"isn't\", 'ma', 'mightn', \"mightn't\", 'mustn', \"mustn't\", 'needn', \"needn't\", 'shan', \"shan't\", 'shouldn', \"shouldn't\", 'wasn', \"wasn't\", 'weren', \"weren't\", 'won', \"won't\", 'wouldn', \"wouldn't\"]\n"
          ],
          "name": "stdout"
        }
      ]
    },
    {
      "cell_type": "code",
      "metadata": {
        "id": "T_shAo2BdAwt"
      },
      "source": [
        "stop_words = set(stopwords.words('english'))"
      ],
      "execution_count": null,
      "outputs": []
    },
    {
      "cell_type": "code",
      "metadata": {
        "id": "6LJAWwQDdERz"
      },
      "source": [
        "data['comment'] = data['comment'].str.strip()"
      ],
      "execution_count": null,
      "outputs": []
    },
    {
      "cell_type": "code",
      "metadata": {
        "id": "KM4PQrSEdI72"
      },
      "source": [
        "train = data.copy()"
      ],
      "execution_count": null,
      "outputs": []
    },
    {
      "cell_type": "code",
      "metadata": {
        "id": "dvtSUQO3dLJU"
      },
      "source": [
        "train['comment'] = train['comment'].str.strip()"
      ],
      "execution_count": null,
      "outputs": []
    },
    {
      "cell_type": "code",
      "metadata": {
        "colab": {
          "base_uri": "https://localhost:8080/",
          "height": 35
        },
        "id": "5SRZGnEodPEr",
        "outputId": "39d5d2c1-572b-4a28-c5d1-fff8ea2c0264"
      },
      "source": [
        "train['comment'][0]"
      ],
      "execution_count": null,
      "outputs": [
        {
          "output_type": "execute_result",
          "data": {
            "application/vnd.google.colaboratory.intrinsic+json": {
              "type": "string"
            },
            "text/plain": [
              "'mota bhai raid me maja aagaya'"
            ]
          },
          "metadata": {
            "tags": []
          },
          "execution_count": 40
        }
      ]
    },
    {
      "cell_type": "code",
      "metadata": {
        "id": "gjnwaKvidTbM"
      },
      "source": [
        "def remove_stopwords(line):\n",
        "    word_tokens = word_tokenize(line)\n",
        "    filtered_sentence = [w for w in word_tokens if not w in stop_words]\n",
        "    return \" \".join(filtered_sentence)"
      ],
      "execution_count": null,
      "outputs": []
    },
    {
      "cell_type": "code",
      "metadata": {
        "id": "zWBoXsjFdXo3"
      },
      "source": [
        "data['stop_comments'] = data['comment'].apply(lambda x : remove_stopwords(x))"
      ],
      "execution_count": null,
      "outputs": []
    },
    {
      "cell_type": "code",
      "metadata": {
        "colab": {
          "base_uri": "https://localhost:8080/",
          "height": 204
        },
        "id": "aW1YH872dcXR",
        "outputId": "68cc935e-cac7-409a-e59a-2eade6284759"
      },
      "source": [
        "data.head()"
      ],
      "execution_count": null,
      "outputs": [
        {
          "output_type": "execute_result",
          "data": {
            "text/html": [
              "<div>\n",
              "<style scoped>\n",
              "    .dataframe tbody tr th:only-of-type {\n",
              "        vertical-align: middle;\n",
              "    }\n",
              "\n",
              "    .dataframe tbody tr th {\n",
              "        vertical-align: top;\n",
              "    }\n",
              "\n",
              "    .dataframe thead th {\n",
              "        text-align: right;\n",
              "    }\n",
              "</style>\n",
              "<table border=\"1\" class=\"dataframe\">\n",
              "  <thead>\n",
              "    <tr style=\"text-align: right;\">\n",
              "      <th></th>\n",
              "      <th>author_name</th>\n",
              "      <th>comment</th>\n",
              "      <th>date</th>\n",
              "      <th>like_counts</th>\n",
              "      <th>reply_count</th>\n",
              "      <th>vidid</th>\n",
              "      <th>polarity</th>\n",
              "      <th>pol_cat</th>\n",
              "      <th>stop_comments</th>\n",
              "    </tr>\n",
              "  </thead>\n",
              "  <tbody>\n",
              "    <tr>\n",
              "      <th>0</th>\n",
              "      <td>HITANSHU FF</td>\n",
              "      <td>mota bhai raid me maja aagaya</td>\n",
              "      <td>2021-04-04T08:04:42Z</td>\n",
              "      <td>2</td>\n",
              "      <td>1</td>\n",
              "      <td>NFlpZL7_rNo</td>\n",
              "      <td>0.0</td>\n",
              "      <td>-1</td>\n",
              "      <td>mota bhai raid maja aagaya</td>\n",
              "    </tr>\n",
              "    <tr>\n",
              "      <th>1</th>\n",
              "      <td>manjinder singh</td>\n",
              "      <td>hi</td>\n",
              "      <td>2021-04-04T08:05:04Z</td>\n",
              "      <td>0</td>\n",
              "      <td>0</td>\n",
              "      <td>NFlpZL7_rNo</td>\n",
              "      <td>0.0</td>\n",
              "      <td>-1</td>\n",
              "      <td>hi</td>\n",
              "    </tr>\n",
              "    <tr>\n",
              "      <th>2</th>\n",
              "      <td>Vishesh Kumar</td>\n",
              "      <td>bhai face reveal karo bhai</td>\n",
              "      <td>2021-04-04T11:22:50Z</td>\n",
              "      <td>0</td>\n",
              "      <td>0</td>\n",
              "      <td>NFlpZL7_rNo</td>\n",
              "      <td>0.0</td>\n",
              "      <td>-1</td>\n",
              "      <td>bhai face reveal karo bhai</td>\n",
              "    </tr>\n",
              "    <tr>\n",
              "      <th>3</th>\n",
              "      <td>Jag Mohan</td>\n",
              "      <td>ajju bhai opp</td>\n",
              "      <td>2021-04-04T08:05:41Z</td>\n",
              "      <td>0</td>\n",
              "      <td>0</td>\n",
              "      <td>NFlpZL7_rNo</td>\n",
              "      <td>0.0</td>\n",
              "      <td>-1</td>\n",
              "      <td>ajju bhai opp</td>\n",
              "    </tr>\n",
              "    <tr>\n",
              "      <th>4</th>\n",
              "      <td>Many Times Gamer</td>\n",
              "      <td>thanks for massage me on instagram</td>\n",
              "      <td>2021-04-04T08:05:03Z</td>\n",
              "      <td>1</td>\n",
              "      <td>0</td>\n",
              "      <td>NFlpZL7_rNo</td>\n",
              "      <td>0.2</td>\n",
              "      <td>1</td>\n",
              "      <td>thanks massage instagram</td>\n",
              "    </tr>\n",
              "  </tbody>\n",
              "</table>\n",
              "</div>"
            ],
            "text/plain": [
              "        author_name  ...               stop_comments\n",
              "0       HITANSHU FF  ...  mota bhai raid maja aagaya\n",
              "1   manjinder singh  ...                          hi\n",
              "2     Vishesh Kumar  ...  bhai face reveal karo bhai\n",
              "3         Jag Mohan  ...               ajju bhai opp\n",
              "4  Many Times Gamer  ...    thanks massage instagram\n",
              "\n",
              "[5 rows x 9 columns]"
            ]
          },
          "metadata": {
            "tags": []
          },
          "execution_count": 43
        }
      ]
    },
    {
      "cell_type": "code",
      "metadata": {
        "id": "lsI_dgdQdkhx"
      },
      "source": [
        "from sklearn.model_selection import train_test_split"
      ],
      "execution_count": null,
      "outputs": []
    },
    {
      "cell_type": "code",
      "metadata": {
        "id": "wN9JzKyTdoKI"
      },
      "source": [
        "X_train,X_test,y_train,y_test = train_test_split(data['stop_comments'],data['pol_cat'],test_size = 0.2,random_state = 324)"
      ],
      "execution_count": null,
      "outputs": []
    },
    {
      "cell_type": "code",
      "metadata": {
        "colab": {
          "base_uri": "https://localhost:8080/"
        },
        "id": "qaagvmsXdsA2",
        "outputId": "652e17c4-0ec9-4988-aa6d-ad6c50dd0bfa"
      },
      "source": [
        "X_train.shape"
      ],
      "execution_count": null,
      "outputs": [
        {
          "output_type": "execute_result",
          "data": {
            "text/plain": [
              "(1659,)"
            ]
          },
          "metadata": {
            "tags": []
          },
          "execution_count": 46
        }
      ]
    },
    {
      "cell_type": "code",
      "metadata": {
        "colab": {
          "base_uri": "https://localhost:8080/"
        },
        "id": "MOTqA_o7dvSB",
        "outputId": "74280c99-7691-4140-a8e1-6263fd25d9f0"
      },
      "source": [
        "X_test.shape"
      ],
      "execution_count": null,
      "outputs": [
        {
          "output_type": "execute_result",
          "data": {
            "text/plain": [
              "(415,)"
            ]
          },
          "metadata": {
            "tags": []
          },
          "execution_count": 47
        }
      ]
    },
    {
      "cell_type": "code",
      "metadata": {
        "colab": {
          "base_uri": "https://localhost:8080/"
        },
        "id": "0dQYyhXodyls",
        "outputId": "9c529dce-4cad-4fb2-e819-c3ab1404c750"
      },
      "source": [
        "data['pol_cat'].value_counts()"
      ],
      "execution_count": null,
      "outputs": [
        {
          "output_type": "execute_result",
          "data": {
            "text/plain": [
              "-1    1714\n",
              " 1     360\n",
              "Name: pol_cat, dtype: int64"
            ]
          },
          "metadata": {
            "tags": []
          },
          "execution_count": 48
        }
      ]
    },
    {
      "cell_type": "markdown",
      "metadata": {
        "id": "Vr5FhvzNd3hz"
      },
      "source": [
        "**Logistic Regression**"
      ]
    },
    {
      "cell_type": "code",
      "metadata": {
        "id": "8Ps8CZxud3NW"
      },
      "source": [
        "from sklearn.feature_extraction.text import CountVectorizer"
      ],
      "execution_count": null,
      "outputs": []
    },
    {
      "cell_type": "code",
      "metadata": {
        "id": "SL2cPZc4eBrd"
      },
      "source": [
        "from sklearn.feature_extraction.text import CountVectorizer, TfidfVectorizer\n",
        "vect = CountVectorizer()\n",
        "tf_train = vect.fit_transform(X_train)\n",
        "tf_test = vect.transform(X_test)"
      ],
      "execution_count": null,
      "outputs": []
    },
    {
      "cell_type": "code",
      "metadata": {
        "colab": {
          "base_uri": "https://localhost:8080/"
        },
        "id": "mq8ujZaXeEjA",
        "outputId": "11d48453-b5a4-4624-99b6-535319b3dd03"
      },
      "source": [
        "tf_train.shape"
      ],
      "execution_count": null,
      "outputs": [
        {
          "output_type": "execute_result",
          "data": {
            "text/plain": [
              "(1659, 1856)"
            ]
          },
          "metadata": {
            "tags": []
          },
          "execution_count": 51
        }
      ]
    },
    {
      "cell_type": "markdown",
      "metadata": {
        "id": "2u1fCRyUeKei"
      },
      "source": [
        "**Print the Vocabulary**"
      ]
    },
    {
      "cell_type": "code",
      "metadata": {
        "colab": {
          "base_uri": "https://localhost:8080/"
        },
        "id": "yxR8HTJTeHP-",
        "outputId": "797d61d4-53b5-48f1-c821-677cb6da61eb"
      },
      "source": [
        "print(vect.vocabulary_)"
      ],
      "execution_count": null,
      "outputs": [
        {
          "output_type": "stream",
          "text": [
            "{'like': 1074, 'game': 676, 'play': 1347, 'please': 1350, 'give': 702, 'elit': 610, 'pass': 1319, 'ajju': 213, 'bhai': 357, 'ka': 898, 'face': 630, 'first': 653, 'comment': 482, 'stream': 1549, 'href': 813, 'https': 814, 'www': 1721, 'youtube': 1737, 'com': 478, 'watch': 1701, 'nflpzl7_rno': 1228, 'amp': 252, '56m52s': 120, '56': 118, '52': 115, 'ಸಲ': 1838, 'ಕಪ': 1836, 'ನಮ': 1837, 'ajjy': 227, 'bhi': 373, 'apka': 262, 'saad': 1448, 'khadana': 965, 'jata': 869, 'ho': 801, 'congrats': 487, 'everyone': 624, 'early': 605, 'found': 658, 'samreetkaur1': 1470, 'custom': 509, '5m00s': 121, '00': 0, 'hii': 786, 'reveal': 1421, 'kardo': 919, 'aaju': 155, 'guys': 727, 'abhi': 176, '305': 91, 'subscribers': 1559, 'hue': 817, 'ab': 171, 'jaldi': 862, 'se': 1494, '400': 104, 'karwado': 938, 'op': 1271, 'good': 710, 'morning': 1182, 'ap': 259, 'mera': 1151, 'name': 1214, 'bolo': 395, 'yar': 1727, 'love': 1095, 'rcb': 1402, 'sapurt': 1474, 'bai': 311, 'aja': 204, 'vs': 1690, 'hay': 763, 'apko': 265, 'sunana': 1561, 'jatha': 870, 'hu': 815, 'anju': 255, '42': 106, 'king': 995, 'kohli': 1008, 'id': 825, 'mara': 1133, 'liya': 1080, 'super': 1566, 'star': 1545, 'ajay': 205, 'plz': 1359, 'si': 1519, 'hello': 772, 'ajjubhai': 217, 'mere': 1153, 'ko': 1006, 'dimond': 580, 'de': 533, 'kal': 908, 'ayethe': 290, 'apne': 267, 'mujhe': 1198, 'maara': 1105, 'tha': 1593, 'shubham': 1517, 'naam': 1207, 'hi': 783, 'hfhhfh': 779, 'ajjubahi': 214, 'diamond': 564, 'ok': 1256, 'bye': 427, 'hmm': 800, 'tomara': 1618, 'bhoat': 375, 'bara': 331, 'frand': 659, 'huuu': 820, 'ajooba': 228, 'imitate': 833, 'customizer': 510, 'yah': 1726, 'number': 1252, 'bol8626958945': 391, '695': 130, 'complete': 485, 'hua': 816, 'br': 407, 'bs': 415, '700': 131, 'krado': 1016, 'ek': 608, 'bande': 321, 'harana': 755, 'hai': 735, 'ui': 1648, 'bangladesh': 324, 'brother': 414, 'main': 1111, '100': 8, 'rs': 1441, 'send': 1501, 'kerna': 961, 'hain': 736, 'kese': 963, 'keru': 962, 'अज': 1752, 'हम': 1816, 'आपक': 1758, 'बह': 1799, 'करत': 1776, 'कर': 1775, 'बत': 1796, 'इए': 1760, 'यर': 1804, 'और': 1771, 'इक': 1761, 'top': 1621, 'yo': 1733, 'imagine': 832, 'many': 1130, 'army': 275, '39': 99, 'coming': 481, 'second': 1496, 'minutes': 1172, 'hours': 811, 'revil': 1426, 'kab': 900, 'karo': 926, 'ge': 693, 'opp': 1283, 'aap': 158, 'koi': 1009, 'gun': 722, 'ki': 989, 'skin': 1527, 'gift': 697, 'kr': 1015, 'na': 1205, 'mp40': 1187, 'beat': 346, 'damage': 525, 'wala': 1696, 'qpet': 1386, 'scar': 1489, 'm4a1': 1102, 'best': 352, 'old': 1257, 'durgun': 602, 'ak': 235, 'gulubol': 721, 'm1887': 1101, 'plzz': 1360, 'nhi': 1230, 'yaar': 1725, 'uid': 1649, '1684636833': 31, 'ꭺs': 1854, 'sanju': 1472, '21': 58, 'ager': 193, 'tum': 1634, 'ne': 1219, 'hara': 754, 'di': 558, 'ya': 1723, 'maan': 1104, 'jaunga': 872, 'pure': 1384, 'world': 1716, 'ke': 947, 'sbse': 1488, 'pro': 1376, 'player': 1348, 'nepal': 1224, 'said': 1461, 'friend': 663, 'respect': 1419, 'pahadi': 1301, 'gaming': 682, 'rip': 1431, 'hell': 770, 'crono': 505, 'craktar': 499, 'dedo': 536, 'carmen123121': 434, 'terimakasam': 1590, 'dedio': 535, 'hiiii': 788, 'nice': 1233, 'making': 1118, 'videos': 1682, 'yuvraj': 1742, 'bol': 390, 'raha': 1390, 'hun': 819, '5000': 114, 'apna': 266, 'dikhao': 574, 'opopop': 1275, 'upload': 1657, 'favourite': 642, 'hlo': 798, 'final': 651, 'manya': 1131, 'girl': 700, 'liff': 1071, '3h06m08s': 102, '06': 5, '08': 6, 'see': 1497, 'time': 1609, 'laughing': 1053, 'bro': 413, 'ultra': 1651, 'boot': 399, 'yogesh': 1734, 'ff': 648, 'bab': 300, 'jao': 867, 'mst': 1190, 'opopopopopopopppp': 1282, 'tota': 1623, 'hiii': 787, 'big': 380, 'dum': 600, 'jeher': 880, 'musku': 1202, 'alag': 238, 'bado': 306, 'bharat': 362, 'total': 1624, 'great': 714, 'kya': 1030, 'heavy': 768, 'driver': 598, 'ladki': 1036, 'batao': 339, 'om': 1259, 'challenge': 450, 'ajuu': 233, '1v1': 47, 'karoge': 928, 'ajiu': 207, 'hye': 822, 'dj': 586, 'lokgeet': 1091, 'ʜᴇʟʟᴏ': 1746, 'ꜱɪʀᴊɪ': 1853, 'ᴋᴇᴍ': 1840, 'ᴄʜʜᴏ': 1839, 'ᴍᴀᴊᴀᴍᴀ': 1841, 'kar': 914, 'gameplay': 679, 'mota': 1183, 'birat': 384, 'girlfriend': 701, 'mansi': 1129, 'facecam': 631, 'vdo': 1677, 'vai': 1668, 'lov': 1094, 'gyes': 729, 'wow': 1719, 'aapki': 162, 'maa': 1103, 'umar': 1652, 'kitni': 1002, 'hogi': 803, '150': 25, 'amit': 248, 'back': 302, 'awm': 289, 'mania': 1125, 'gf': 695, 'chat': 459, 'bahi': 308, 'globle': 704, 'pa': 1292, 'lokash': 1090, 'gamer': 680, 'challange': 449, '38e': 98, '12': 18, 'ajubhai': 232, 'dimonend': 582, 'whatsap': 1707, 'video': 1681, 'dekh': 542, 'lena': 1066, 'वह': 1812, 'आईड': 1755, 'money': 1179, 'guest': 717, 'shasta': 1509, 'maat': 1106, 'daimand': 517, 'beja': 349, 'romio': 1436, 'eriwshaw': 617, 'oppe': 1284, 'fen': 645, 'ajjubhai94': 218, 'tumko': 1643, 'team': 1585, 'invitation': 848, 'bhej': 367, 'accept': 179, 'serif': 1503, 'ha': 731, 'aapke': 161, 'satha': 1483, 'एक': 1769, 'ajjubai': 215, 'waha': 1693, 'par': 1309, 'jonty': 894, 'bha': 354, 'full': 666, 'guide': 718, 'use': 1660, 'mugha': 1195, 'ga': 668, '900': 134, 'gunda': 723, 'happened': 751, 'tg': 1591, 'esport': 620, 'oooooppppp': 1268, '2h38m17s': 83, '38': 97, '17': 32, 'need': 1220, 'permanent': 1335, 'squad': 1542, 'jisko': 886, 'join': 893, 'krna': 1018, 'req': 1416, 'bheje': 369, 'aur': 286, 'btadena': 417, 'bhejne': 371, 'pehle': 1330, 'ᴍᴍ': 1842, 'ʟᴇɢᴇɴᴅ': 1747, '1681502918': 29, 'level': 1068, '55': 117, 'league': 1057, 'heroic': 778, 'character': 456, 'cr7': 498, 'contact': 489, '9988890225': 142, 'whatsapp': 1708, 'anyone': 257, 'meri': 1155, 'request': 1418, 'utha': 1664, 'lo': 1082, 'alexher2559r': 239, 'wonderful': 1714, 'karktar': 922, 'pc': 1328, 'इस': 1763, 'तरह': 1786, 'कट': 1772, 'रह': 1808, 'अगरआप': 1751, 'सन': 1814, 'लत': 1810, 'उसक': 1767, 'बन': 1797, 'ipl': 850, 'cup': 508, 'year': 1730, 'only': 1264, 'gando': 685, 'youtubers': 1739, 'life': 1070, 'change': 454, 'tiktokers': 1608, 'gender': 694, 'haty': 762, 'biggest': 381, 'fan': 636, 'ever': 622, 'raid': 1393, 'maja': 1115, 'aagaya': 152, 'bhot': 376, 'mast': 1140, 'keltey': 958, 'clash': 470, 'kelo': 956, 'worlds': 1717, 'dekhi': 545, 'maine': 1112, 'streaming': 1550, 'schme': 1491, 'cool': 494, 'hr': 812, 'besbri': 351, 'sai': 1460, 'intzaar': 847, 'hota': 808, 'thank': 1594, '660': 127, 'abb': 173, '680': 128, 'supporting': 1568, 'aryan': 276, 'hlw': 799, 'अलर': 1754, 'evo': 626, 'next': 1227, 'konsi': 1012, 'aayegi': 169, 'chadi': 438, 'fad': 633, 'ee': 607, 'sala': 1466, 'namdhe': 1213, 'elite': 611, 'do': 587, 'mumbai': 1201, 'indians': 839, 'brand': 409, 'padri': 1298, 'sheikh': 1513, 'haseena': 758, 'sister': 1526, 'happy': 752, 'birthday': 385, 'hyy': 823, 'krono': 1021, 'da': 513, 'dijia': 567, 'achcha': 183, 'think': 1600, 'aajubhai': 156, 'reavel': 1407, 'views': 1685, 'come': 479, 'goldi': 709, 'rohit': 1434, '982737': 138, 'oooppp': 1269, '2664098882': 73, 'reply': 1415, 'ahh': 199, 'yeah': 1729, 'pliz': 1355, 'diya': 584, 'uganda': 1647, '98k': 140, 'karwaado': 937, 'all': 241, 'buy': 426, 'night': 1235, 'panther': 1307, 'free': 661, 'gave': 689, '10': 7, 'coin': 474, 'नह': 1789, 'आप': 1757, 'वक': 1811, 'खत': 1778, 'mai': 1109, 'sabse': 1456, 'jada': 857, 'bola': 392, 'bhae': 355, 'kaun': 944, 'sa': 1447, 'kat': 943, 'mein': 1148, 'dam': 524, 'nahin': 1209, 'agar': 192, 'tumme': 1644, 'himmat': 793, 'gurithind100': 724, 'krke': 1017, '10000': 10, 'diamonds': 565, 'danish': 528, 'afternoon': 191, 'ashirvad': 279, 'opopopopop': 1277, 'omegle': 1261, 'try': 1629, 'sucribe': 1560, 'plaese': 1345, 'thanks': 1595, 'sirf': 1525, '200': 53, 'krva': 1024, 'तक': 1785, 'apke': 263, 'sare': 1477, 'manoj': 1128, 'majnu': 1116, 'ᶜᵃⁿ': 1849, 'ᵃⁿʸᵒⁿᵉ': 1843, 'ˢᵉᵉ': 1748, 'ᵐʸ': 1845, 'ᵗⁱⁿʸ': 1848, 'ᶜᵒᵐᵐᵉⁿᵗ': 1850, 'aapko': 163, '1on': 43, 'match': 1142, 'keliye': 955, 'chalang': 447, 'karta': 931, 'st': 1543, 'parela': 1312, 'gineas': 699, 'aajau': 154, 'khaltya': 970, 'rcd': 1404, 'win': 1709, 'ketla': 964, 'nood': 1249, 'new': 1226, 'mode': 1178, 'ahe': 198, 'ku': 1027, 'nahi': 1208, 'karte': 932, 'muge': 1194, 'uska': 1661, 'vedio': 1678, 'chaihe': 444, '1000': 9, 'diamand': 562, 'harshit': 757, 'chrono': 468, 'ham': 740, 'dost': 594, 'keise': 951, 'sake': 1464, 'show': 1516, 'reid': 1413, 'गर': 1779, 'सम': 1815, 'घर': 1780, 'हर': 1817, 'छत': 1781, 'पर': 1792, 'लकन': 1809, 'पक': 1790, 'जर': 1783, 'रखन': 1807, 'उन': 1764, 'सक': 1813, 'ajjou': 212, 'mja': 1175, 'aaya': 168, 'red': 1410, 'uthao': 1665, 'iam': 824, '23': 63, 'sayok': 1487, '22': 59, 'milion': 1166, 'app': 269, 'pero': 1336, 'sath': 1482, 'karana': 917, 'start': 1546, 'karnataka': 925, 'end': 614, 'up': 1656, '1spin': 44, 'm14': 1100, 'nikal': 1237, 'gaya': 690, 'ayush120440k': 291, 'thumbnail': 1607, 'criminal': 504, 'nothing': 1250, '𝓑𝓮𝓪𝓾𝓽𝓲𝓯𝓾𝓵': 1855, 'ajjubhi': 221, 'mra': 1188, 'sat': 1481, 'kalo': 909, 'mi': 1160, 'chandni': 452, 'baad': 296, 'aayenge': 170, 'toda': 1615, 'chahiye': 441, '____': 146, '459942719_': 109, '___': 145, 'roj': 1435, 'puchrahaho': 1381, 'nash': 1216, 'kec': 948, 'alock': 242, 'legends': 1062, 'parwez': 1316, 'injiniyar': 840, 'plus': 1358, 'repley': 1414, 'amok': 251, 'ajjuvai': 225, 'devdutt': 554, 'padikkal': 1297, 'corona': 496, 'positive': 1365, 'aprilful': 270, 'banaya': 317, 'hamare': 743, 'khelo': 980, 'rha': 1429, 'pleas': 1349, 'omelga': 1262, 'sir': 1524, 'ji': 882, 'maih': 1110, 'jana': 865, 'chaiye': 445, 'm1014': 1099, 'mare': 1136, 'khloge': 986, 'bhiya': 374, 'cani': 430, 'guild': 719, 'liye': 1081, '10sub': 16, 'kara': 916, 'gursewak405': 725, 'double': 596, 'kar98': 915, 'lake': 1045, 'adi40965805s': 188, 'nobda': 1244, 'karega': 920, 'bar': 330, 'lijiye': 1073, '1967601233': 37, 'nhai': 1229, 'boy': 405, 'watching': 1702, 'ojju': 1255, 'rajasthan': 1395, 'royal': 1439, 'tume': 1638, 'tumhari': 1641, 'mami': 1120, 'kasam': 939, 'chutya': 469, 'hiiiiiii': 789, 'kitne': 1001, 'channel': 455, 'khalo': 968, 'guulbi': 726, 'યમ': 1829, 'oh': 1254, 'scmer': 1493, 'vale': 1672, 'kyo': 1032, 'krta': 1022, 'kamine': 912, 'real': 1406, 'legend': 1061, 'bhagat': 356, 'singh': 1522, 'agree': 196, 'lthen': 1097, '1st': 45, 'pata': 1321, 'bolte': 397, 'done': 589, 'bunny': 422, 'one': 1263, 'week': 1704, 'ago': 195, 'hhhhhhhhhhhh': 781, 'hhhhhjjuyhjjhhhhhh': 782, 'hihuuyyuuhhhjjhhyyuikjmnngfuij': 785, 'nobra': 1246, 'nekal': 1223, 'ose': 1291, 'nobdaa': 1245, 'cobra': 472, 'wali': 1698, 'saree': 1478, 'imo': 834, 'sari': 1479, 'kingdarkrai7': 996, 'read': 1405, 'haello': 733, 'dado': 515, '2770051781': 76, 'nikallo': 1238, 'dikha': 571, 'honi': 806, '1like': 42, '100saal': 13, '1subscribe': 46, '1000saal': 12, 'aba': 172, 'chimkandi': 464, 'tara': 1578, 'mileon': 1165, 'to': 1614, 'fac': 629, 'revill': 1427, 'pura': 1383, 'tu': 1631, '2520379822': 67, 'want': 1699, 'bot': 402, 'amith': 250, 'bhejo': 372, '__': 144, '2338866312': 64, 'gameid': 677, 'akshata2821l': 237, 'ajjubhai94op': 219, 'dgsfdddgfffffzddd': 556, '2h38m28s': 84, '28': 79, 'krona': 1020, 'share': 1508, 'कटर': 1773, 'shath': 1511, 'khelkar': 978, 'gab': 670, 'mane': 1122, 'killark3309e': 993, 'evening': 621, 'raistor': 1394, 'rape': 1400, 'deya': 555, 'aju': 229, 'advance': 189, 'server': 1504, 'code': 473, 'create': 502, 'karke': 921, 'thnks': 1601, '69': 129, 'plase': 1346, '30': 86, 'content': 490, 'achha': 184, 'laga': 1039, 'revealed': 1422, 'iove': 849, '11': 17, 'बज': 1794, '15': 24, 'minit': 1171, 'dekho': 547, 'पहल': 1793, 'carryminati': 435, 'youtuber': 1738, 'joshep': 895, 'keleye': 954, '2655937955': 72, 'bate': 340, 'khatam': 973, '30k': 92, '40': 103, 'friends': 664, 'shakal': 1507, 'ghar': 696, 'tumi': 1642, 'milati': 1162, 'bade': 305, 'acche': 181, 'ajji': 211, 'baar': 297, 'ookaat': 1267, 'baat': 298, 'mightyrs': 1161, 'banaa': 315, '2644800721': 71, 'bhao': 361, 'opopopopopopopopopopopopopopopopopppopp': 1281, 'અજ': 1818, 'મજ': 1828, 'બન': 1827, 'શક': 1835, 'થર': 1826, 'કય': 1822, 'આય': 1821, 'card': 433, '1500': 26, 'kkr': 1005, '49': 111, 'hy': 821, 'merato': 1152, 'spin': 1541, 'wtf': 1720, 'movmeny': 1186, 'kashmir': 941, 'bhut': 378, 'bada': 304, 'waqat': 1700, 'toh': 1616, 'cheater': 460, 'collection': 476, '1645941991': 27, 'view': 1683, 'oppp': 1285, 'open': 1273, 'aajao': 153, 'mukto': 1200, 'hona': 805, 'chai': 443, 'avaj': 287, 'hero': 776, 'lagat': 1042, '19744931934': 38, 'waiting': 1694, 'million': 1167, 'mainr': 1113, 'gifts': 698, 'prin': 1373, 'comet': 480, 'pls': 1356, 'way': 1703, 'pad': 1294, 'song': 1538, 'rupaya': 1442, 'dega': 541, 'inspiration': 841, 'बड': 1795, '000': 1, 'यम': 1803, 'टर': 1784, '302pp': 90, 'highway': 784, 'internet': 843, 'prenk': 1372, 'iiiue8eu': 829, 'heelo': 769, 'saath': 1450, 'kheloge': 981, 'clear': 471, 'अपन': 1753, 'alokhdedo2946471112': 244, 'asli': 280, 'mujse': 1199, 'lga': 1069, 'sale': 1468, 'vi': 1679, 'aim': 202, 'car': 432, 'emote': 613, 'dedo2412371959': 537, 'helllo': 771, 'tumhare': 1640, 'sakta': 1465, 'doston': 595, '13': 19, 'subscriber': 1558, 'bas': 334, '20': 52, 'krvado': 1025, 'bp': 406, 'arif': 273, 'lavel': 1055, 'kitna': 1000, 'ranked': 1399, 'opi': 1274, 'छल': 1782, 'mashat': 1138, 'bat': 337, 'khi': 985, 'laef': 1037, 'bare': 332, 'vary': 1676, 'भगव': 1800, 'रख': 1806, 'hahhahahaahha': 734, 'lol': 1092, 'ajjubhaiya': 220, 'motabhai': 1184, 'jinda': 883, 'bad': 303, 'ajuubhai': 234, 'boro': 401, 'kro': 1019, 'ajjubhqi': 222, 'shackzack': 1506, '9893048284': 139, 'बर': 1798, 'omangel': 1260, 'bala': 312, 'oo': 1265, 'dusri': 604, 'dekhe': 544, 'hisab': 796, 'dikhaiye': 573, 'gadi': 672, 'jismein': 887, 'bed': 347, 'cover': 497, 'lag': 1038, 'taraf': 1579, 'yuzi': 1743, 'chahal': 439, 'acha': 182, 'bowler': 404, 'bus': 424, 'sniper': 1533, 'head': 766, 'ajjubai94': 216, 'aabhari': 150, 'rahooga': 1392, 'photo': 1338, 'aquib': 271, 'hamako': 742, 'dayamand': 531, 'ganda': 684, 'intor': 844, 'people': 1333, 'wish': 1712, 'parents': 1313, 'still': 1548, 'alive': 240, 'years': 1731, 'god': 707, 'bless': 386, 'you': 1736, 'mubasheer58': 1192, 'namaskar': 1211, 'aapse': 165, 'khelna': 979, 'chahta': 442, 'har': 753, 'lakh': 1046, 'dunga': 601, 'jeet': 878, 'gaye': 691, 'dena': 550, 'hoga': 802, 'manjur': 1127, 'likh': 1077, 'deta': 552, '298034401': 81, 'fist': 654, 'jindabad': 884, 'date1415': 529, 'tak': 1575, 'dikao': 570, 'ah': 197, 'halo': 739, 'spammer': 1540, 'chod': 467, 'banana': 316, 'skyler': 1531, 'ability': 177, 'kill': 992, 'pubg': 1380, 'अक': 1750, 'इच': 1762, 'assam': 281, 'hh': 780, 'amitbhai': 249, 'fight': 650, 'bhaut': 363, 'taggde': 1574, 'dikhaga': 572, 'huff': 818, 'sar': 1475, 'castom': 436, 'lagay': 1043, 'ninjaay5643h': 1241, 'botho': 403, '50': 112, 'thousand': 1605, 'least': 1058, 'income': 836, 'jan': 864, 'gattusi1631g': 688, 'lord': 1093, 'pramot': 1370, 'mako': 1119, 'ban': 313, 'kiyu': 1004, 'maira': 1114, 'pawanbh2751u': 1325, 'ye': 1728, 'revel': 1424, 'var': 1675, 'ramilo': 1398, 'plzzzzzzz': 1362, 'mari': 1137, 'sathe': 1484, 'baroda': 333, 'fev': 647, 'and': 254, 'hammari': 747, 'es': 618, 'jitengi': 889, 'sabb': 1452, 'logo': 1088, 'plzzz': 1361, '940296924': 136, '1683776129': 30, '2000': 54, 'chahie': 440, 'opopopopopopopo': 1279, 'intrceting': 845, 'vadio': 1666, 'parlagi': 1314, 'every': 623, 'hour': 810, '300': 87, 'dona': 588, '1438108777': 23, 'karona': 929, 'kis': 999, 'pe': 1329, 'kiya': 1003, 'nam': 1210, 'btao': 418, '451012596': 108, 'chal': 446, '1vs': 49, '1kar': 41, 'tup': 1645, 'muje': 1197, 'bi': 379, 'practice': 1369, 'tonystark_61': 1619, 'ऋषभ': 1768, '4646f': 110, 'आल': 1759, 'manju': 1126, 'vah': 1667, 'bhejen': 370, 'problem': 1377, 'bahar': 307, 'aata': 167, 'judaai': 896, 'lenge': 1067, 'log': 1086, 'mile': 1163, 'samne': 1469, 'bandar': 320, 'neela': 1221, 'kot': 1014, 'pahne': 1303, '1h36m00s': 39, '36': 94, '2h54m00s': 85, '54': 116, '56620': 119, 'damomds': 526, 'chiragki52it': 465, '3h01m15s': 101, '01': 2, 'scene': 1490, 'bahot': 309, 'fahn': 634, 'subcriber': 1556, 'kap': 913, 'reveall': 1423, 'karoga': 927, 'going': 708, 'leg': 1060, 'freefire': 662, 'nightshelby': 1236, 'piru': 1342, 'mu': 1191, 'je': 876, 'pasad': 1317, 'daimond': 519, '999900': 143, 'ist': 852, 'indian': 838, 'ᵍᵉᵗ': 1844, 'ˢᵘᵇˢᶜʳᶦᵇᵉʳ': 1749, 'ᶠʳᵒᵐ': 1852, 'ᵗʰᶦˢ': 1846, 'ᵗᶦⁿʸ': 1847, 'ᶜᵒᵐᵐᵉⁿᵗˀ': 1851, 'cyber': 512, 'bundle': 421, 'ajiubhai': 208, 'aapne': 164, 'jiske': 885, 'toxic': 1625, 'mavi': 1144, 'usne': 1663, 'kaha': 904, 'ur': 1659, 'soon': 1539, 'possible': 1366, '2274116462': 62, 'instagram': 842, 'followers': 656, 'bdane': 344, 'person': 1337, 'wa': 1691, 'sabko': 1455, 'dete': 553, 'meaning': 1147, 'wining': 1710, 'hallo': 738, 'helo': 774, 'sabhi': 1454, 'sawaagat': 1486, 'tek': 1587, 'ajjaa': 209, 'a124': 148, 'advanced': 190, 'converts': 492, '60ep': 123, '60hp': 124, 'cooldown': 495, '10sec': 15, 'hankaqs3535m': 750, 'aokl': 258, 'tmhara': 1613, 'bacche': 301, 'jaisa': 860, 'awaaz': 288, 'tumhara': 1639, 'vovi': 1689, 'worst': 1718, 'csk': 506, 'msd': 1189, 'mene': 1150, 'manga': 1124, 'else': 612, '96k': 137, 'कल': 1777, 'भह': 1801, '1380006651': 21, 'uniqe': 1653, 'tati': 1583, 'ayush124104': 292, 'election': 609, 'khade': 967, 'jaao': 855, 'jeetoge': 879, 'tm': 1612, 'bohat': 388, 'khelty': 983, '7205560239': 132, 'chlo': 466, 'krte': 1023, 'aid': 200, '2020097508': 55, '99': 141, 'viewer': 1684, 'students': 1554, 'message': 1157, 'pahuc': 1304, 'jaye': 875, 'enjoy': 615, 'break': 410, 'dance': 527, 'magic': 1108, 'britain': 412, 'hindu': 794, 'family': 635, 'delhi': 549, 'dusre': 603, 'table': 1573, 'plece': 1352, 'aadhe': 151, 'mang': 1123, 'style': 1555, 'dikhate': 575, 'kuch': 1028, 'karlo': 923, 'lekin': 1064, 'chennai': 461, 'kings': 997, 'jite': 888, 'lok': 1089, 'kyare': 1031, 'karso': 930, 'riquest': 1432, 'akseft': 236, 'karna': 924, 'nannubhai': 1215, 'requast': 1417, 'acapt': 178, 'kaya': 946, 'feel': 643, 'something': 1537, 'went': 1705, 'rong': 1437, 'yuotube': 1741, 'day': 530, 'doramon': 593, 'opppppppppppppppppppppppp': 1289, 'galfrend': 675, 'prriya': 1379, 'khelao': 977, 'nico': 1234, 'google': 711, 'search': 1495, 'banl': 326, 'streem': 1551, 'pr': 1368, 'lelo': 1065, 'heroffa3908s': 777, 'dekhta': 548, 'also': 245, 'rcbian': 1403, 'kay': 945, 'short': 1515, 'matte': 1143, '1373706925': 20, 'bhcaindri': 366, 'bta': 416, 'dia': 559, 'hllww': 797, 'snipers': 1534, 'jagah': 859, 'van': 1674, 'chalao': 448, 'kam': 910, 'rahe': 1391, 'hiiiiiiiiiiiiiiiiiii': 790, 'fans': 638, 'likes': 1076, 'thoko': 1604, 'apak': 260, 'opppp': 1286, 'amul': 253, 'taste': 1582, 'india': 837, 'colgate': 475, 'paste': 1320, 'olok': 1258, 'pinch': 1341, 'bohot': 389, 'ar': 272, 'bana': 314, 'pagal': 1300, '2788503557': 78, 'apni': 268, 'aidi': 201, 'bay': 342, 'bolu': 398, 'sabbb': 1453, '600diamond': 122, 'tum4me1': 1635, 'mobile': 1176, 'yes': 1732, 'tarty': 1581, 'asa': 277, 'solution': 1536, 'kia': 990, 'street': 1552, 'based': 335, 'priyanshu': 1375, '1418': 22, 'pawan': 1324, 'paragડ': 1310, 'યમડ': 1830, 'comments': 483, 'pelease': 1332, 'tho': 1602, 'pleaseeeee': 1351, 'booyah': 400, 'opeg': 1272, 'cookie': 493, 'રક': 1831, 'અન': 1819, 'તમ': 1825, 'રમત': 1832, 'કલ': 1823, 'વર': 1834, 'આપ': 1820, 'pate': 1322, 'hame': 745, 'hamne': 748, 'kafi': 903, 'charector': 457, 'chije': 462, 'hote': 809, 'uske': 1662, 'nikalo': 1239, 'download': 597, 'tania': 1576, 'maranick': 1135, '_singh': 147, 'nobbda': 1243, 'opppppppppppppppppppp': 1288, 'redeem': 1411, 'prank': 1371, 'kun': 1029, 'sem': 1500, 'natwark': 1218, 'kelte': 957, '2267027401': 61, 'opppppp': 1287, 'opopopopopopopopopopopopop': 1280, 'yt': 1740, 'per': 1334, 'dai': 516, 'karanzo': 918, '03340': 4, '033140': 3, 'marako': 1134, '1888132984': 36, 'beast': 345, 'quest': 1387, 'single': 1523, '1v1kar': 48, 'bbhy': 343, 'plug': 1357, 'charging': 458, 'muga': 1193, 'hayato': 764, 'computer': 486, 'khalte': 969, 'jadugar201': 858, 'azham': 293, 'make': 1117, 'ajjbhai': 210, 'boldia': 393, 'aaoge': 157, 'farleyh3114s': 639, 'sak': 1462, 'ta': 1572, 'aaram': 166, 'tumara': 1636, 'handar': 749, 'recvest': 1409, 'karu': 934, 'mandya': 1121, 'thanku': 1596, 'dono': 590, 'dijye': 569, 'bahut': 310, 'àjjubhai': 1745, 'aapka': 160, 'setup': 1505, 'banoy': 329, 'kartikbonfl': 933, 'favorite': 641, '500': 113, 'duga': 599, 'th': 1592, 'bandel': 322, 'dijiye': 568, '2715926199': 74, 'uid2348826588': 1650, 'late': 1051, 'tte': 1630, 'ledo': 1059, 'zeher': 1744, 'ajubahy': 230, 'rvael': 1446, 'gta': 716, '2021': 56, 'tayyaba1018c': 1584, 'bhaiya': 359, '2910445462': 80, 'thode': 1603, 'nambar': 1212, 'adami': 187, 'gadhe': 671, 'karva': 935, 'lodo': 1085, 'kabhi': 901, 'trophy': 1628, 'milega': 1164, 'muze': 1204, 'sekao': 1498, 'kelana': 952, 'piche': 1339, 'sekte': 1499, '1id': 40, 'shyamamaa123': 1518, 'abd': 174, 'cricket': 503, '94': 135, 'mornig': 1181, 'banda': 318, 'kahaaap': 905, 'giving': 703, 'rate': 1401, 'sensitivity': 1502, 'fane': 637, 'idea': 827, 'sahilza5619u': 1459, 'ajjuuuuuu': 224, 'quot': 1389, 'thing': 1599, 'everything': 625, 'ba': 295, 'merry': 1156, 'आज': 1756, 'ओक': 1770, 'gya': 728, 'opopopopopop': 1278, 'iiiiiiiiiiiiiiiiiiiiiiiiiiiiiiiiiiiiiiiiiiiiiiiiiiiiiiiiiiiiiii': 828, 'hath': 761, 'jodti': 892, 'javab': 873, '75': 133, 'auju': 285, 'singer': 1521, 'congratulations': 488, 'school': 1492, 'college': 477, 'hera': 775, 'oor': 1270, 'chalo': 451, 'halbhaiyou': 737, 'singal': 1520, 'bhaiiiiiiiiiiiiiiiiiiiiiiiiiiiiiiiiiiiiiiiiiiiiiiiiiiiiiiiiiii': 358, 'virat': 1687, 'kholi': 987, 'wajah': 1695, 'im': 831, 'sasta': 1480, 'loge': 1087, 'aisa': 203, 'gujrati': 720, 'kyu': 1034, 'btrthy': 419, 'acho': 186, 'kelatehe': 953, 'ples': 1353, 'le': 1056, 'lina': 1078, 'solo': 1535, 'જર': 1824, 'રવ': 1833, 'bau': 341, 'dimonds': 581, 'aggu': 194, 'cap': 431, 'konasi': 1010, 'pahani': 1302, 'chanel': 453, 'mat': 1141, 'khao': 971, 'मन': 1802, '3026': 89, 'gajender': 673, 'दम': 1787, '2642937832': 70, 'thek': 1598, 'millions': 1168, 'qna': 1385, 'banjo': 325, 'ans': 256, 'question': 1388, 'sach': 1457, 'suno': 1564, 'imosnal': 835, 'gril': 715, 'accha': 180, 'lobhiye': 1083, 'funny': 667, 'parbat': 1311, 'koe': 1007, 'custum': 511, 'khelane': 976, 'vala': 1671, 'rebot': 1408, 'koro': 1013, 'kabse': 902, 'kahe': 906, '1657665507': 28, 'bast': 336, 'minecraft': 1169, 'lab': 1035, 'dalo': 522, 'apaka': 261, 'meretim': 1154, 'exchange': 627, 'token': 1617, 'hastak': 760, '1838544127': 35, 'sks': 1528, 'svd': 1571, 'tap': 1577, 'bano': 328, 'exept': 628, 'kingsma3323h': 998, 'mughe': 1196, 'aloke': 243, 'sunny124453n': 1563, 'daimands': 518, 'bandal': 319, 'bekar': 350, 'list': 1079, 'jodo': 891, 'dekhaiye': 543, 'piles': 1340, 'nepali': 1225, 'sarbar': 1476, 'east': 606, 'west': 1706, 'topup': 1622, 'paytem': 1327, 'asap': 278, 'gano': 686, 'jalate': 861, 'moriming': 1180, '36m44s': 95, '44': 107, 'loveday': 1096, 'teri': 1589, 'jali': 863, 'naa': 1206, 'motherboard': 1185, 'landubhai': 1048, 'mines': 1170, '250': 66, 'noobda': 1247, 'hamari': 744, 'odia': 1253, 'tumare': 1637, 'gana': 683, 'sunau': 1562, 'ajhubhai': 206, 'mod': 1177, 'bannao': 327, 'kase': 940, 'vaii': 1669, '2023': 57, 'ya2024': 1724, 'noobde': 1248, 'crate': 501, 'dialogue': 561, 'baazi': 299, 'mey': 1158, 'control': 491, 'bhavuk': 364, 'nehi': 1222, 'paya': 1326, 'nikla': 1240, 'kassam': 942, 'diaa': 560, 'arjun': 274, 'dedoid3322k': 538, 'vibhulv': 1680, 'apki': 264, 'stas': 1547, 'dalege': 521, 'mea': 1146, 'restart': 1420, 'fir': 652, 'power': 1367, 'oof': 1266, 'ker': 959, 'uploaded': 1658, '1vs1': 50, 'abe': 175, 'ilaet': 830, 'lut': 1098, 'gaaane': 669, 'sunte': 1565, 'rehna': 1412, 'festival': 646, 'ajjui': 223, 'b2k': 294, '30lak': 93, 'gayi': 692, 'helloajjubhai': 773, '3h00m00s': 100, '2h26m30s': 82, '26': 69, 'bàdshàíshû': 428, '170': 33, 'karvado': 936, 'bhaiyo': 360, 'games': 681, '2773993812': 77, 'dilwado': 578, 'tujhe': 1633, 'salaaaaaammmm': 1467, 'vallahala': 1673, 'part': 1315, 'laoge': 1050, 'tube': 1632, 'revolution': 1428, 'behno': 348, 'thankyou': 1597, '181': 34, 'gyus': 730, 'commet': 484, 'esi': 619, 'kicalo': 991, 'sahi': 1458, 'kehte': 950, 'daymans': 532, 'pal': 1305, 'kong': 1011, 'hash': 759, 'stake': 1544, '1vs1karte': 51, 'plese': 1354, 'ide': 826, 'hildasa0350r': 791, 'gameing': 678, 'natik': 1217, 'jane': 866, 'hard': 756, 'work': 1715, 'orginal': 1290, 'dedication': 534, 'amazing': 247, 'keep': 949, 'jeelrabari31': 877, 'graanyy': 713, 'dekhna': 546, 'wo': 1713, 'unke': 1654, 'unsubscribe': 1655, 'denge': 551, 'sab': 1451, 'suskribe': 1570, 'student': 1553, '2743059356': 75, 'mitanshrathi': 1173, '3000': 88, 'bhejdo': 368, 'himanshu': 792, 'attendance': 282, 'gopy': 712, 'ksjen': 1026, '10k': 14, 'wya': 1722, 'massage': 1139, 'entro': 616, 'kaal': 899, 'melege': 1149, 'winner': 1711, 'vajh': 1670, 'glue': 705, 'lagana': 1041, 'bhul': 377, 'nob': 1242, 'always': 246, 'saurabh': 1485, 'achhe': 185, 'rickama5759h': 1430, 'friendship': 665, 'dad': 514, 'calling': 429, 'defeated': 540, 'कम': 1774, 'पढ': 1791, 'उनक': 1765, 'उम': 1766, 'धन': 1788, 'यव': 1805, 'machine': 1107, 'subs': 1557, 'femal': 644, 'bundel': 420, 'iske': 851, 'jaan': 854, 'sakata': 1463, '1000dimond': 11, 'shat': 1510, 'khela': 975, 'legiye': 1063, 'khelona': 982, 'dedso': 539, 'rupiya': 1444, 'intro': 846, 'cuomo': 507, 'jelly': 881, 'bata': 338, 'fase': 640, 'revele': 1425, 'kerdo': 960, 'pl': 1343, 'saal': 1449, 'wale': 1697, 'audience': 283, 'promise': 1378, 'biiiiiiiiiiiiiiiiiigggggggggggggg': 382, 'ffffaaaaannnnn': 649, 'po': 1363, 'yoo': 1735, '65': 126, 'aab': 149, 'doo': 591, '37950': 96, 'bhay': 365, 'like68907': 1075, 'ajjuvi': 226, 'place': 1344, 'boll': 394, 'follo': 655, 'garate': 687, 'hama': 741, 'chacha': 437, 'dal': 520, 'rajbhai': 1396, 'khadde': 966, 'he': 765, 'khul': 988, 'jaai': 853, 'muzase': 1203, 'panga': 1306, '25660828': 68, 'jarur': 868, 'padhna': 1295, 'skylar': 1530, 'punjab': 1382, 'saprot': 1473, 'frd': 660, 'go': 706, 'superchat': 1567, 'ni': 1231, 'wah': 1692, 'bete': 353, 'kaisa': 907, 'khena': 984, 'bri': 411, 'bo': 387, 'nubda': 1251, 'tere': 1588, 'papa': 1308, 'shopot': 1514, 'vipin': 1686, 'dhama': 557, 'priya': 1374, 'lijia': 1072, '223247827_': 60, 'hollow': 804, 'jyada': 897, 'three': 1606, 'teams': 1586, 'bolta': 396, 'kysa': 1033, 'hoo': 807, 'padhte': 1296, 'samzungi': 1471, 'peise': 1331, 'kamane': 911, 'dalte': 523, 'titan': 1611, 'dice': 566, 'voice': 1688, 'tips': 1610, 'tricks': 1627, '60m': 125, '2409115029': 65, 'ajubai': 231, 'bra': 408, 'kine': 994, 'din': 583, 'ram': 1397, 'nicala': 1232, 'small': 1532, 'roaster': 1433, 'sure': 1569, 'laugh': 1052, 'diamnd': 563, 'room': 1438, 'lagaein': 1040, 'aujj': 284, 'mj': 1174, 'jocker78': 890, 'skyfrost': 1529, 'forever': 657, 'dood': 592, 'ruqest': 1445, 'target': 1580, 'poora': 1364, 'mg': 1159, 'opopopop': 1276, 'kharid': 972, 'padta': 1299, 'pase': 1318, 'crase': 500, 'bane': 323, 'factory': 632, 'aapane': 159, 'headshot': 767, 'rupees': 1443, 'chimkandhi': 463, 'dimon': 579, 'hamko': 746, 'shatr': 1512, 'khe': 974, 'launa': 1054, 'jay': 874, 'lanta': 1049, 'trending': 1626, 'lock': 1084, 'rp': 1440, 'hinespu2718w': 795, 'udar': 1646, 'bimasakti': 383, 'landmine': 1047, 'lagaya': 1044, 'may': 1145, 'but': 425, 'mar': 1132, 'diye': 585, 'bura': 423, 'dill': 577, 'gaju': 674, 'pauri': 1323, 'paar': 1293, 'jatin': 871, '4024l': 105, 'haarti': 732, 'dil': 576, 'toot': 1620, 'jaata': 856}\n"
          ],
          "name": "stdout"
        }
      ]
    },
    {
      "cell_type": "code",
      "metadata": {
        "id": "SllCdhNdeQgj"
      },
      "source": [
        "vocab = vect.vocabulary_"
      ],
      "execution_count": null,
      "outputs": []
    },
    {
      "cell_type": "code",
      "metadata": {
        "id": "ESemUjANeV_V"
      },
      "source": [
        "# for key,value in vocab.items():\n",
        "#     if(value == 162):\n",
        "#         print(key"
      ],
      "execution_count": null,
      "outputs": []
    },
    {
      "cell_type": "markdown",
      "metadata": {
        "id": "XAW4J-giefoF"
      },
      "source": [
        "**Accuracy score on training dataset**"
      ]
    },
    {
      "cell_type": "code",
      "metadata": {
        "colab": {
          "base_uri": "https://localhost:8080/"
        },
        "id": "M_peFjXPebTT",
        "outputId": "1a267227-d8be-47c4-d441-31196af1e19e"
      },
      "source": [
        "from sklearn.linear_model import LogisticRegression\n",
        "lr = LogisticRegression()\n",
        "lr.fit(tf_train,y_train)"
      ],
      "execution_count": null,
      "outputs": [
        {
          "output_type": "execute_result",
          "data": {
            "text/plain": [
              "LogisticRegression()"
            ]
          },
          "metadata": {
            "tags": []
          },
          "execution_count": 55
        }
      ]
    },
    {
      "cell_type": "code",
      "metadata": {
        "colab": {
          "base_uri": "https://localhost:8080/"
        },
        "id": "51TuSD-PepCC",
        "outputId": "0e594b66-d5d9-43be-f2c2-873be248fd4c"
      },
      "source": [
        "lr.score(tf_train,y_train)"
      ],
      "execution_count": null,
      "outputs": [
        {
          "output_type": "execute_result",
          "data": {
            "text/plain": [
              "0.9843279083785413"
            ]
          },
          "metadata": {
            "tags": []
          },
          "execution_count": 56
        }
      ]
    },
    {
      "cell_type": "markdown",
      "metadata": {
        "id": "m2yiZ5Srevxp"
      },
      "source": [
        "**Accuracy score on test dataset i.e got from the splitting**"
      ]
    },
    {
      "cell_type": "code",
      "metadata": {
        "colab": {
          "base_uri": "https://localhost:8080/"
        },
        "id": "FH_24ySeevH1",
        "outputId": "15670a6d-fbe8-4808-c77d-196eed5351fa"
      },
      "source": [
        "lr.score(tf_test,y_test)"
      ],
      "execution_count": null,
      "outputs": [
        {
          "output_type": "execute_result",
          "data": {
            "text/plain": [
              "0.9614457831325302"
            ]
          },
          "metadata": {
            "tags": []
          },
          "execution_count": 57
        }
      ]
    },
    {
      "cell_type": "markdown",
      "metadata": {
        "id": "-jiKJhXQfASG"
      },
      "source": [
        "**Make predictions on the test dataset i.e. unseen data to the model**"
      ]
    },
    {
      "cell_type": "code",
      "metadata": {
        "id": "ziowkw_se8Hk"
      },
      "source": [
        "expected = y_test\n",
        "predicted = lr.predict(tf_test)"
      ],
      "execution_count": null,
      "outputs": []
    },
    {
      "cell_type": "markdown",
      "metadata": {
        "id": "LLa_dFqjfH4Y"
      },
      "source": [
        "**plot confusion matrix for the test dataset**"
      ]
    },
    {
      "cell_type": "code",
      "metadata": {
        "id": "E2hz38LwfHVi"
      },
      "source": [
        "from mlxtend.plotting import plot_confusion_matrix\n",
        "import matplotlib.pyplot as plt\n",
        "import numpy as np"
      ],
      "execution_count": null,
      "outputs": []
    },
    {
      "cell_type": "code",
      "metadata": {
        "colab": {
          "base_uri": "https://localhost:8080/"
        },
        "id": "dWT0M11wfNj4",
        "outputId": "3721a6af-cb7f-4ba9-8578-c303f68c9026"
      },
      "source": [
        "pip install mlxtend"
      ],
      "execution_count": null,
      "outputs": [
        {
          "output_type": "stream",
          "text": [
            "Requirement already satisfied: mlxtend in /usr/local/lib/python3.7/dist-packages (0.14.0)\n",
            "Requirement already satisfied: numpy>=1.10.4 in /usr/local/lib/python3.7/dist-packages (from mlxtend) (1.19.5)\n",
            "Requirement already satisfied: setuptools in /usr/local/lib/python3.7/dist-packages (from mlxtend) (56.1.0)\n",
            "Requirement already satisfied: scikit-learn>=0.18 in /usr/local/lib/python3.7/dist-packages (from mlxtend) (0.24.2)\n",
            "Requirement already satisfied: matplotlib>=1.5.1 in /usr/local/lib/python3.7/dist-packages (from mlxtend) (3.2.2)\n",
            "Requirement already satisfied: scipy>=0.17 in /usr/local/lib/python3.7/dist-packages (from mlxtend) (1.4.1)\n",
            "Requirement already satisfied: pandas>=0.17.1 in /usr/local/lib/python3.7/dist-packages (from mlxtend) (1.1.5)\n",
            "Requirement already satisfied: joblib>=0.11 in /usr/local/lib/python3.7/dist-packages (from scikit-learn>=0.18->mlxtend) (1.0.1)\n",
            "Requirement already satisfied: threadpoolctl>=2.0.0 in /usr/local/lib/python3.7/dist-packages (from scikit-learn>=0.18->mlxtend) (2.1.0)\n",
            "Requirement already satisfied: kiwisolver>=1.0.1 in /usr/local/lib/python3.7/dist-packages (from matplotlib>=1.5.1->mlxtend) (1.3.1)\n",
            "Requirement already satisfied: cycler>=0.10 in /usr/local/lib/python3.7/dist-packages (from matplotlib>=1.5.1->mlxtend) (0.10.0)\n",
            "Requirement already satisfied: python-dateutil>=2.1 in /usr/local/lib/python3.7/dist-packages (from matplotlib>=1.5.1->mlxtend) (2.8.1)\n",
            "Requirement already satisfied: pyparsing!=2.0.4,!=2.1.2,!=2.1.6,>=2.0.1 in /usr/local/lib/python3.7/dist-packages (from matplotlib>=1.5.1->mlxtend) (2.4.7)\n",
            "Requirement already satisfied: pytz>=2017.2 in /usr/local/lib/python3.7/dist-packages (from pandas>=0.17.1->mlxtend) (2018.9)\n",
            "Requirement already satisfied: six in /usr/local/lib/python3.7/dist-packages (from cycler>=0.10->matplotlib>=1.5.1->mlxtend) (1.15.0)\n"
          ],
          "name": "stdout"
        }
      ]
    },
    {
      "cell_type": "code",
      "metadata": {
        "colab": {
          "base_uri": "https://localhost:8080/",
          "height": 313
        },
        "id": "Yft3sNLAfRM-",
        "outputId": "dc0e8c82-ada6-493f-8b69-f515fa9fb89e"
      },
      "source": [
        "cf = metrics.confusion_matrix(expected,predicted,labels = [1,-1])\n",
        "print(cf)\n",
        "## this command is only for google collab\n",
        "## in the below figure \" 1 is actually showing -1 and 0 is actually showing 1\"\n",
        "fig, ax = plot_confusion_matrix(conf_mat = cf)\n",
        "\n",
        "## It canbe used in any platform\n",
        "# fig, ax = plot_confusion_matrix(conf_mat = cf, class_names = [1,-1])\n",
        "plt.show()"
      ],
      "execution_count": null,
      "outputs": [
        {
          "output_type": "stream",
          "text": [
            "[[ 46  14]\n",
            " [  2 353]]\n"
          ],
          "name": "stdout"
        },
        {
          "output_type": "display_data",
          "data": {
            "image/png": "[encoded data removed]",
            "text/plain": [
              "<Figure size 432x288 with 1 Axes>"
            ]
          },
          "metadata": {
            "tags": [],
            "needs_background": "light"
          }
        }
      ]
    },
    {
      "cell_type": "code",
      "metadata": {
        "colab": {
          "base_uri": "https://localhost:8080/"
        },
        "id": "mtEtNeMUfYqT",
        "outputId": "0cbc79e4-1f90-4c13-cae3-e40b6f350dd0"
      },
      "source": [
        "from sklearn import metrics\n",
        "print(metrics.classification_report(expected, predicted))\n",
        "# print(metrics.confusion_matrix(expected,predicted))"
      ],
      "execution_count": null,
      "outputs": [
        {
          "output_type": "stream",
          "text": [
            "              precision    recall  f1-score   support\n",
            "\n",
            "          -1       0.97      0.99      0.98       352\n",
            "           1       0.93      0.81      0.86        63\n",
            "\n",
            "    accuracy                           0.96       415\n",
            "   macro avg       0.95      0.90      0.92       415\n",
            "weighted avg       0.96      0.96      0.96       415\n",
            "\n"
          ],
          "name": "stdout"
        }
      ]
    },
    {
      "cell_type": "markdown",
      "metadata": {
        "id": "b6Hm9gdIffPU"
      },
      "source": [
        "**find the F1 score**"
      ]
    },
    {
      "cell_type": "code",
      "metadata": {
        "colab": {
          "base_uri": "https://localhost:8080/"
        },
        "id": "ZPPv-oYHfdId",
        "outputId": "6a5e074e-c500-483a-de74-5499043e9d77"
      },
      "source": [
        "from sklearn.metrics import f1_score\n",
        "f1_score(expected, predicted, average='macro')"
      ],
      "execution_count": null,
      "outputs": [
        {
          "output_type": "execute_result",
          "data": {
            "text/plain": [
              "0.9209674347743286"
            ]
          },
          "metadata": {
            "tags": []
          },
          "execution_count": 70
        }
      ]
    }
  ]
}